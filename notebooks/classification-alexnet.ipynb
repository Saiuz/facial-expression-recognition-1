{
 "cells": [
  {
   "cell_type": "code",
   "execution_count": 1,
   "metadata": {},
   "outputs": [
    {
     "name": "stdout",
     "output_type": "stream",
     "text": [
      "Collecting keras\n",
      "  Using cached https://files.pythonhosted.org/packages/5e/10/aa32dad071ce52b5502266b5c659451cfd6ffcbf14e6c8c4f16c0ff5aaab/Keras-2.2.4-py2.py3-none-any.whl\n",
      "Collecting keras-applications>=1.0.6 (from keras)\n",
      "  Using cached https://files.pythonhosted.org/packages/90/85/64c82949765cfb246bbdaf5aca2d55f400f792655927a017710a78445def/Keras_Applications-1.0.7-py2.py3-none-any.whl\n",
      "Requirement already satisfied: numpy>=1.9.1 in /usr/local/envs/py3env/lib/python3.5/site-packages (from keras) (1.14.0)\n",
      "Requirement already satisfied: scipy>=0.14 in /usr/local/envs/py3env/lib/python3.5/site-packages (from keras) (1.0.0)\n",
      "Requirement already satisfied: six>=1.9.0 in /usr/local/envs/py3env/lib/python3.5/site-packages (from keras) (1.10.0)\n",
      "Requirement already satisfied: h5py in /usr/local/envs/py3env/lib/python3.5/site-packages (from keras) (2.9.0)\n",
      "Collecting keras-preprocessing>=1.0.5 (from keras)\n",
      "  Using cached https://files.pythonhosted.org/packages/c0/bf/0315ef6a9fd3fc2346e85b0ff1f5f83ca17073f2c31ac719ab2e4da0d4a3/Keras_Preprocessing-1.0.9-py2.py3-none-any.whl\n",
      "Requirement already satisfied: pyyaml in /usr/local/envs/py3env/lib/python3.5/site-packages (from keras) (3.13)\n",
      "Installing collected packages: keras-applications, keras-preprocessing, keras\n",
      "Successfully installed keras-2.2.4 keras-applications-1.0.7 keras-preprocessing-1.0.9\n"
     ]
    }
   ],
   "source": [
    "!pip install keras"
   ]
  },
  {
   "cell_type": "code",
   "execution_count": 2,
   "metadata": {},
   "outputs": [
    {
     "name": "stderr",
     "output_type": "stream",
     "text": [
      "Using TensorFlow backend.\n"
     ]
    }
   ],
   "source": [
    "import pandas as pd\n",
    "import numpy as np\n",
    "import keras\n",
    "import matplotlib.pyplot as plt\n",
    "\n",
    "%matplotlib inline"
   ]
  },
  {
   "cell_type": "code",
   "execution_count": 3,
   "metadata": {},
   "outputs": [],
   "source": [
    "df = pd.read_csv('emotions.csv')\n",
    "\n",
    "df['category'] = df['category'].str.strip()\n",
    "\n",
    "train = df.loc[df.category == 'Training',:]\n",
    "valid = df.loc[df.category == 'PublicTest',:]\n",
    "test  = df.loc[df.category == 'PrivateTest',:]\n",
    "\n",
    "X_train = np.array(train.iloc[:, 2:2306])\n",
    "y_train = np.array(train.loc[:, ['y']])\n",
    "\n",
    "X_val = np.array(valid.iloc[:, 2:2306])\n",
    "y_val = np.array(valid.loc[:, ['y']])\n",
    "\n",
    "X_test = np.array(test.iloc[:, 2:2306])\n",
    "y_test = np.array(test.loc[:, ['y']])\n",
    "\n",
    "mapping = {\n",
    "    0: 'Angry', \n",
    "    1: 'Disgust', \n",
    "    2: 'Fear', \n",
    "    3: 'Happy', \n",
    "    4: 'Sad', \n",
    "    5: 'Surprise', \n",
    "    6: 'Neutral'   \n",
    "}"
   ]
  },
  {
   "cell_type": "code",
   "execution_count": 4,
   "metadata": {},
   "outputs": [],
   "source": [
    "y_train = keras.utils.to_categorical(y_train, 7)\n",
    "y_val = keras.utils.to_categorical(y_val, 7)\n",
    "y_test = keras.utils.to_categorical(y_test, 7)\n",
    "\n",
    "X_train_r = X_train.reshape((len(X_train), 48, 48))\n",
    "X_val_r   = X_val.reshape((len(X_val), 48, 48))\n",
    "X_test_r   = X_test.reshape((len(X_test), 48, 48))\n",
    "\n",
    "X_train_r = X_train_r / 255\n",
    "X_val_r = X_val_r / 255\n",
    "X_test_r = X_test_r / 255\n",
    "\n",
    "X_train_rgb = np.stack((X_train_r,) * 3, axis = -1)\n",
    "X_val_rgb = np.stack((X_val_r, ) * 3, axis = -1)\n",
    "X_test_rgb = np.stack((X_test_r, ) * 3, axis = -1)\n",
    "\n",
    "X_train_bw = X_train_r.reshape((len(X_train_r), 48, 48, 1))\n",
    "X_val_bw = X_val_r.reshape((len(X_val_r), 48, 48, 1))\n",
    "X_test_bw = X_test_r.reshape((len(X_test_r), 48, 48, 1))"
   ]
  },
  {
   "cell_type": "code",
   "execution_count": 5,
   "metadata": {},
   "outputs": [],
   "source": [
    "from keras import backend as K\n",
    "from keras.applications.vgg19 import VGG19\n",
    "\n",
    "from keras.metrics import categorical_accuracy\n",
    "\n",
    "from keras.optimizers import Adam\n",
    "\n",
    "from keras.models import Sequential\n",
    "from keras.layers import Dense, Dropout, Activation, Flatten, Conv2D, MaxPooling2D\n",
    "from keras.layers.normalization import BatchNormalization\n",
    "from keras import optimizers\n",
    "\n",
    "np.random.seed(100)"
   ]
  },
  {
   "cell_type": "markdown",
   "metadata": {},
   "source": [
    "### Alexnet model"
   ]
  },
  {
   "cell_type": "code",
   "execution_count": 19,
   "metadata": {},
   "outputs": [],
   "source": [
    "model = Sequential()\n",
    "\n",
    "model.add(Conv2D(96,(5,5), padding='same', input_shape=(48, 48,1)))\n",
    "model.add(BatchNormalization())\n",
    "model.add(Activation('relu'))\n",
    "model.add(MaxPooling2D(pool_size=(2, 2)))\n",
    "model.add(Dropout(0.25))\n",
    "\n",
    "model.add(Conv2D(256,(2,2), padding='same'))\n",
    "model.add(BatchNormalization())\n",
    "model.add(Activation('relu'))\n",
    "model.add(MaxPooling2D(pool_size=(2, 2)))\n",
    "model.add(Dropout(0.25))\n",
    "\n",
    "model.add(Conv2D(256,(3,3), padding='same'))\n",
    "model.add(BatchNormalization())\n",
    "model.add(Activation('relu'))\n",
    "model.add(MaxPooling2D(pool_size=(2, 2)))\n",
    "model.add(Dropout(0.25))\n",
    "\n",
    "model.add(Conv2D(384,(2,2), padding='same'))\n",
    "model.add(BatchNormalization())\n",
    "model.add(Activation('relu'))\n",
    "model.add(Dropout(0.25))\n",
    "\n",
    "model.add(Conv2D(384,(2,2), padding='same'))\n",
    "model.add(BatchNormalization())\n",
    "model.add(Activation('relu'))\n",
    "model.add(Dropout(0.25))\n",
    "\n",
    "model.add(Conv2D(256,(2,2), padding='same'))\n",
    "model.add(BatchNormalization())\n",
    "model.add(Activation('relu'))\n",
    "model.add(MaxPooling2D(pool_size=(2, 2)))\n",
    "model.add(Dropout(0.25))\n",
    "\n",
    "model.add(Flatten())\n",
    "\n",
    "model.add(Dense(1024))\n",
    "model.add(BatchNormalization())\n",
    "model.add(Activation('relu'))\n",
    "model.add(Dropout(0.25))\n",
    "\n",
    "model.add(Dense(512))\n",
    "model.add(BatchNormalization())\n",
    "model.add(Activation('relu'))\n",
    "model.add(Dropout(0.25))\n",
    "\n",
    "model.add(Dense(512))\n",
    "model.add(BatchNormalization())\n",
    "model.add(Activation('relu'))\n",
    "model.add(Dropout(0.25))\n",
    "\n",
    "model.add(Dense(7, activation='softmax'))\n",
    "\n",
    "model.compile(optimizer='adam', loss='categorical_crossentropy', metrics=[categorical_accuracy])"
   ]
  },
  {
   "cell_type": "code",
   "execution_count": 20,
   "metadata": {},
   "outputs": [
    {
     "name": "stdout",
     "output_type": "stream",
     "text": [
      "_________________________________________________________________\n",
      "Layer (type)                 Output Shape              Param #   \n",
      "=================================================================\n",
      "conv2d_19 (Conv2D)           (None, 48, 48, 96)        2496      \n",
      "_________________________________________________________________\n",
      "batch_normalization_25 (Batc (None, 48, 48, 96)        384       \n",
      "_________________________________________________________________\n",
      "activation_25 (Activation)   (None, 48, 48, 96)        0         \n",
      "_________________________________________________________________\n",
      "max_pooling2d_13 (MaxPooling (None, 24, 24, 96)        0         \n",
      "_________________________________________________________________\n",
      "dropout_7 (Dropout)          (None, 24, 24, 96)        0         \n",
      "_________________________________________________________________\n",
      "conv2d_20 (Conv2D)           (None, 24, 24, 256)       98560     \n",
      "_________________________________________________________________\n",
      "batch_normalization_26 (Batc (None, 24, 24, 256)       1024      \n",
      "_________________________________________________________________\n",
      "activation_26 (Activation)   (None, 24, 24, 256)       0         \n",
      "_________________________________________________________________\n",
      "max_pooling2d_14 (MaxPooling (None, 12, 12, 256)       0         \n",
      "_________________________________________________________________\n",
      "dropout_8 (Dropout)          (None, 12, 12, 256)       0         \n",
      "_________________________________________________________________\n",
      "conv2d_21 (Conv2D)           (None, 12, 12, 256)       590080    \n",
      "_________________________________________________________________\n",
      "batch_normalization_27 (Batc (None, 12, 12, 256)       1024      \n",
      "_________________________________________________________________\n",
      "activation_27 (Activation)   (None, 12, 12, 256)       0         \n",
      "_________________________________________________________________\n",
      "max_pooling2d_15 (MaxPooling (None, 6, 6, 256)         0         \n",
      "_________________________________________________________________\n",
      "dropout_9 (Dropout)          (None, 6, 6, 256)         0         \n",
      "_________________________________________________________________\n",
      "conv2d_22 (Conv2D)           (None, 6, 6, 384)         393600    \n",
      "_________________________________________________________________\n",
      "batch_normalization_28 (Batc (None, 6, 6, 384)         1536      \n",
      "_________________________________________________________________\n",
      "activation_28 (Activation)   (None, 6, 6, 384)         0         \n",
      "_________________________________________________________________\n",
      "dropout_10 (Dropout)         (None, 6, 6, 384)         0         \n",
      "_________________________________________________________________\n",
      "conv2d_23 (Conv2D)           (None, 6, 6, 384)         590208    \n",
      "_________________________________________________________________\n",
      "batch_normalization_29 (Batc (None, 6, 6, 384)         1536      \n",
      "_________________________________________________________________\n",
      "activation_29 (Activation)   (None, 6, 6, 384)         0         \n",
      "_________________________________________________________________\n",
      "dropout_11 (Dropout)         (None, 6, 6, 384)         0         \n",
      "_________________________________________________________________\n",
      "conv2d_24 (Conv2D)           (None, 6, 6, 256)         393472    \n",
      "_________________________________________________________________\n",
      "batch_normalization_30 (Batc (None, 6, 6, 256)         1024      \n",
      "_________________________________________________________________\n",
      "activation_30 (Activation)   (None, 6, 6, 256)         0         \n",
      "_________________________________________________________________\n",
      "max_pooling2d_16 (MaxPooling (None, 3, 3, 256)         0         \n",
      "_________________________________________________________________\n",
      "dropout_12 (Dropout)         (None, 3, 3, 256)         0         \n",
      "_________________________________________________________________\n",
      "flatten_3 (Flatten)          (None, 2304)              0         \n",
      "_________________________________________________________________\n",
      "dense_9 (Dense)              (None, 1024)              2360320   \n",
      "_________________________________________________________________\n",
      "batch_normalization_31 (Batc (None, 1024)              4096      \n",
      "_________________________________________________________________\n",
      "activation_31 (Activation)   (None, 1024)              0         \n",
      "_________________________________________________________________\n",
      "dropout_13 (Dropout)         (None, 1024)              0         \n",
      "_________________________________________________________________\n",
      "dense_10 (Dense)             (None, 512)               524800    \n",
      "_________________________________________________________________\n",
      "batch_normalization_32 (Batc (None, 512)               2048      \n",
      "_________________________________________________________________\n",
      "activation_32 (Activation)   (None, 512)               0         \n",
      "_________________________________________________________________\n",
      "dropout_14 (Dropout)         (None, 512)               0         \n",
      "_________________________________________________________________\n",
      "dense_11 (Dense)             (None, 512)               262656    \n",
      "_________________________________________________________________\n",
      "batch_normalization_33 (Batc (None, 512)               2048      \n",
      "_________________________________________________________________\n",
      "activation_33 (Activation)   (None, 512)               0         \n",
      "_________________________________________________________________\n",
      "dropout_15 (Dropout)         (None, 512)               0         \n",
      "_________________________________________________________________\n",
      "dense_12 (Dense)             (None, 7)                 3591      \n",
      "=================================================================\n",
      "Total params: 5,234,503\n",
      "Trainable params: 5,227,143\n",
      "Non-trainable params: 7,360\n",
      "_________________________________________________________________\n"
     ]
    }
   ],
   "source": [
    "model.summary()"
   ]
  },
  {
   "cell_type": "code",
   "execution_count": null,
   "metadata": {},
   "outputs": [],
   "source": [
    "#optimizer = Adam(lr=0.0001)\n",
    "#model.compile(optimizer=optimizer, loss='categorical_crossentropy', metrics=[categorical_accuracy])"
   ]
  },
  {
   "cell_type": "code",
   "execution_count": 21,
   "metadata": {},
   "outputs": [
    {
     "name": "stdout",
     "output_type": "stream",
     "text": [
      "Train on 28709 samples, validate on 3589 samples\n",
      "Epoch 1/50\n",
      "28709/28709 [==============================] - 48s 2ms/step - loss: 1.9503 - categorical_accuracy: 0.2363 - val_loss: 1.7647 - val_categorical_accuracy: 0.2889\n",
      "Epoch 2/50\n",
      "28709/28709 [==============================] - 38s 1ms/step - loss: 1.7277 - categorical_accuracy: 0.3227 - val_loss: 1.6955 - val_categorical_accuracy: 0.3661\n",
      "Epoch 3/50\n",
      "28709/28709 [==============================] - 38s 1ms/step - loss: 1.5718 - categorical_accuracy: 0.3944 - val_loss: 1.5295 - val_categorical_accuracy: 0.4085\n",
      "Epoch 4/50\n",
      "28709/28709 [==============================] - 38s 1ms/step - loss: 1.4469 - categorical_accuracy: 0.4468 - val_loss: 1.8759 - val_categorical_accuracy: 0.3594\n",
      "Epoch 5/50\n",
      "28709/28709 [==============================] - 38s 1ms/step - loss: 1.3434 - categorical_accuracy: 0.4847 - val_loss: 1.4032 - val_categorical_accuracy: 0.4522\n",
      "Epoch 6/50\n",
      "28709/28709 [==============================] - 38s 1ms/step - loss: 1.2650 - categorical_accuracy: 0.5139 - val_loss: 1.2962 - val_categorical_accuracy: 0.5079\n",
      "Epoch 7/50\n",
      "28709/28709 [==============================] - 38s 1ms/step - loss: 1.2099 - categorical_accuracy: 0.5355 - val_loss: 1.5498 - val_categorical_accuracy: 0.4575\n",
      "Epoch 8/50\n",
      "28709/28709 [==============================] - 38s 1ms/step - loss: 1.1679 - categorical_accuracy: 0.5532 - val_loss: 1.2717 - val_categorical_accuracy: 0.5152\n",
      "Epoch 9/50\n",
      "28709/28709 [==============================] - 38s 1ms/step - loss: 1.1253 - categorical_accuracy: 0.5758 - val_loss: 1.3932 - val_categorical_accuracy: 0.4703\n",
      "Epoch 10/50\n",
      "28709/28709 [==============================] - 38s 1ms/step - loss: 1.0965 - categorical_accuracy: 0.5852 - val_loss: 1.1903 - val_categorical_accuracy: 0.5492\n",
      "Epoch 11/50\n",
      "28709/28709 [==============================] - 38s 1ms/step - loss: 1.0584 - categorical_accuracy: 0.5980 - val_loss: 1.1322 - val_categorical_accuracy: 0.5673\n",
      "Epoch 12/50\n",
      "28709/28709 [==============================] - 38s 1ms/step - loss: 1.0394 - categorical_accuracy: 0.6042 - val_loss: 1.5800 - val_categorical_accuracy: 0.4422\n",
      "Epoch 13/50\n",
      "28709/28709 [==============================] - 38s 1ms/step - loss: 1.0104 - categorical_accuracy: 0.6205 - val_loss: 1.1735 - val_categorical_accuracy: 0.5709\n",
      "Epoch 14/50\n",
      "28709/28709 [==============================] - 38s 1ms/step - loss: 0.9840 - categorical_accuracy: 0.6313 - val_loss: 1.1734 - val_categorical_accuracy: 0.5570\n",
      "Epoch 15/50\n",
      "28709/28709 [==============================] - 38s 1ms/step - loss: 0.9605 - categorical_accuracy: 0.6372 - val_loss: 1.4229 - val_categorical_accuracy: 0.4670\n",
      "Epoch 16/50\n",
      "28709/28709 [==============================] - 38s 1ms/step - loss: 0.9410 - categorical_accuracy: 0.6440 - val_loss: 1.1437 - val_categorical_accuracy: 0.5687\n",
      "Epoch 17/50\n",
      "28709/28709 [==============================] - 38s 1ms/step - loss: 0.9135 - categorical_accuracy: 0.6576 - val_loss: 1.2112 - val_categorical_accuracy: 0.5559\n",
      "Epoch 18/50\n",
      "28709/28709 [==============================] - 38s 1ms/step - loss: 0.8900 - categorical_accuracy: 0.6662 - val_loss: 1.2332 - val_categorical_accuracy: 0.5701\n",
      "Epoch 19/50\n",
      "28709/28709 [==============================] - 38s 1ms/step - loss: 0.8670 - categorical_accuracy: 0.6736 - val_loss: 1.1123 - val_categorical_accuracy: 0.5823\n",
      "Epoch 20/50\n",
      "28709/28709 [==============================] - 38s 1ms/step - loss: 0.8497 - categorical_accuracy: 0.6812 - val_loss: 1.1245 - val_categorical_accuracy: 0.5943\n",
      "Epoch 21/50\n",
      "28709/28709 [==============================] - 38s 1ms/step - loss: 0.8183 - categorical_accuracy: 0.6948 - val_loss: 1.0549 - val_categorical_accuracy: 0.6222\n",
      "Epoch 22/50\n",
      "28709/28709 [==============================] - 38s 1ms/step - loss: 0.7974 - categorical_accuracy: 0.7001 - val_loss: 1.4077 - val_categorical_accuracy: 0.4960\n",
      "Epoch 23/50\n",
      "28709/28709 [==============================] - 38s 1ms/step - loss: 0.7804 - categorical_accuracy: 0.7076 - val_loss: 1.0771 - val_categorical_accuracy: 0.6186\n",
      "Epoch 24/50\n",
      "28709/28709 [==============================] - 38s 1ms/step - loss: 0.7528 - categorical_accuracy: 0.7181 - val_loss: 1.0949 - val_categorical_accuracy: 0.6205\n",
      "Epoch 25/50\n",
      "28709/28709 [==============================] - 38s 1ms/step - loss: 0.7392 - categorical_accuracy: 0.7233 - val_loss: 1.2826 - val_categorical_accuracy: 0.5522\n",
      "Epoch 26/50\n",
      "28709/28709 [==============================] - 38s 1ms/step - loss: 0.7148 - categorical_accuracy: 0.7326 - val_loss: 1.1749 - val_categorical_accuracy: 0.5893\n",
      "Epoch 27/50\n",
      "28709/28709 [==============================] - 38s 1ms/step - loss: 0.7007 - categorical_accuracy: 0.7380 - val_loss: 1.1701 - val_categorical_accuracy: 0.6082\n",
      "Epoch 28/50\n",
      "28709/28709 [==============================] - 38s 1ms/step - loss: 0.6780 - categorical_accuracy: 0.7445 - val_loss: 1.1305 - val_categorical_accuracy: 0.6169\n",
      "Epoch 29/50\n",
      "28709/28709 [==============================] - 38s 1ms/step - loss: 0.6552 - categorical_accuracy: 0.7577 - val_loss: 1.3346 - val_categorical_accuracy: 0.5678\n",
      "Epoch 30/50\n",
      "28709/28709 [==============================] - 38s 1ms/step - loss: 0.6327 - categorical_accuracy: 0.7681 - val_loss: 1.2401 - val_categorical_accuracy: 0.5834\n",
      "Epoch 31/50\n",
      "28709/28709 [==============================] - 38s 1ms/step - loss: 0.6248 - categorical_accuracy: 0.7674 - val_loss: 1.3219 - val_categorical_accuracy: 0.5829\n",
      "Epoch 32/50\n",
      "28709/28709 [==============================] - 38s 1ms/step - loss: 0.6014 - categorical_accuracy: 0.7749 - val_loss: 1.2298 - val_categorical_accuracy: 0.6133\n",
      "Epoch 33/50\n",
      "28709/28709 [==============================] - 38s 1ms/step - loss: 0.5796 - categorical_accuracy: 0.7839 - val_loss: 1.2759 - val_categorical_accuracy: 0.5957\n",
      "Epoch 34/50\n",
      "28709/28709 [==============================] - 38s 1ms/step - loss: 0.5660 - categorical_accuracy: 0.7900 - val_loss: 1.1289 - val_categorical_accuracy: 0.6264\n",
      "Epoch 35/50\n",
      "28709/28709 [==============================] - 38s 1ms/step - loss: 0.5406 - categorical_accuracy: 0.7984 - val_loss: 1.3443 - val_categorical_accuracy: 0.5896\n",
      "Epoch 36/50\n",
      "28709/28709 [==============================] - 38s 1ms/step - loss: 0.5291 - categorical_accuracy: 0.8048 - val_loss: 1.3461 - val_categorical_accuracy: 0.5913\n",
      "Epoch 37/50\n",
      "28709/28709 [==============================] - 38s 1ms/step - loss: 0.5142 - categorical_accuracy: 0.8119 - val_loss: 1.3013 - val_categorical_accuracy: 0.6155\n",
      "Epoch 38/50\n",
      "28709/28709 [==============================] - 38s 1ms/step - loss: 0.4947 - categorical_accuracy: 0.8187 - val_loss: 1.3117 - val_categorical_accuracy: 0.6055\n",
      "Epoch 39/50\n",
      "28709/28709 [==============================] - 38s 1ms/step - loss: 0.4923 - categorical_accuracy: 0.8179 - val_loss: 1.4178 - val_categorical_accuracy: 0.6052\n",
      "Epoch 40/50\n",
      "28709/28709 [==============================] - 38s 1ms/step - loss: 0.4671 - categorical_accuracy: 0.8269 - val_loss: 1.4801 - val_categorical_accuracy: 0.5737\n",
      "Epoch 41/50\n",
      "28709/28709 [==============================] - 38s 1ms/step - loss: 0.4461 - categorical_accuracy: 0.8324 - val_loss: 1.5879 - val_categorical_accuracy: 0.5548\n",
      "Epoch 42/50\n",
      "28709/28709 [==============================] - 38s 1ms/step - loss: 0.4449 - categorical_accuracy: 0.8347 - val_loss: 1.5981 - val_categorical_accuracy: 0.5723\n",
      "Epoch 43/50\n",
      "28709/28709 [==============================] - 38s 1ms/step - loss: 0.4163 - categorical_accuracy: 0.8468 - val_loss: 1.5064 - val_categorical_accuracy: 0.5932\n",
      "Epoch 44/50\n",
      "28709/28709 [==============================] - 38s 1ms/step - loss: 0.4107 - categorical_accuracy: 0.8491 - val_loss: 1.3948 - val_categorical_accuracy: 0.6096\n",
      "Epoch 45/50\n",
      "28709/28709 [==============================] - 38s 1ms/step - loss: 0.3972 - categorical_accuracy: 0.8528 - val_loss: 1.4226 - val_categorical_accuracy: 0.6035\n",
      "Epoch 46/50\n",
      "28709/28709 [==============================] - 38s 1ms/step - loss: 0.3908 - categorical_accuracy: 0.8586 - val_loss: 1.4741 - val_categorical_accuracy: 0.5974\n",
      "Epoch 47/50\n",
      "28709/28709 [==============================] - 38s 1ms/step - loss: 0.3692 - categorical_accuracy: 0.8647 - val_loss: 1.5493 - val_categorical_accuracy: 0.6091\n",
      "Epoch 48/50\n"
     ]
    },
    {
     "name": "stdout",
     "output_type": "stream",
     "text": [
      "28709/28709 [==============================] - 38s 1ms/step - loss: 0.3591 - categorical_accuracy: 0.8653 - val_loss: 1.4063 - val_categorical_accuracy: 0.6105\n",
      "Epoch 49/50\n",
      "28709/28709 [==============================] - 38s 1ms/step - loss: 0.3554 - categorical_accuracy: 0.8684 - val_loss: 1.4503 - val_categorical_accuracy: 0.6141\n",
      "Epoch 50/50\n",
      "28709/28709 [==============================] - 38s 1ms/step - loss: 0.3477 - categorical_accuracy: 0.8726 - val_loss: 1.6258 - val_categorical_accuracy: 0.6013\n"
     ]
    }
   ],
   "source": [
    "history = model.fit(X_train_bw, y_train, batch_size=256, epochs=50, validation_data=(X_val_bw, y_val))"
   ]
  },
  {
   "cell_type": "code",
   "execution_count": 23,
   "metadata": {},
   "outputs": [
    {
     "name": "stdout",
     "output_type": "stream",
     "text": [
      "dict_keys(['loss', 'categorical_accuracy', 'val_loss', 'val_categorical_accuracy'])\n"
     ]
    }
   ],
   "source": [
    "print(history.history.keys())"
   ]
  },
  {
   "cell_type": "code",
   "execution_count": 24,
   "metadata": {},
   "outputs": [
    {
     "name": "stderr",
     "output_type": "stream",
     "text": [
      "/usr/local/envs/py3env/lib/python3.5/site-packages/matplotlib/font_manager.py:1320: UserWarning: findfont: Font family ['sans-serif'] not found. Falling back to DejaVu Sans\n",
      "  (prop.get_family(), self.defaultFamily[fontext]))\n"
     ]
    },
    {
     "data": {
      "image/png": "[encoded data removed]",
      "text/plain": [
       "<matplotlib.figure.Figure at 0x7f7443122710>"
      ]
     },
     "metadata": {},
     "output_type": "display_data"
    }
   ],
   "source": [
    "plt.plot(history.history['categorical_accuracy'])\n",
    "plt.plot(history.history['val_categorical_accuracy'])\n",
    "plt.title('model accuracy')\n",
    "plt.ylabel('accuracy')\n",
    "plt.xlabel('epoch')\n",
    "plt.legend(['train', 'test'], loc='upper left')\n",
    "plt.show()"
   ]
  },
  {
   "cell_type": "code",
   "execution_count": 26,
   "metadata": {},
   "outputs": [
    {
     "name": "stderr",
     "output_type": "stream",
     "text": [
      "/usr/local/envs/py3env/lib/python3.5/site-packages/matplotlib/font_manager.py:1320: UserWarning: findfont: Font family ['sans-serif'] not found. Falling back to DejaVu Sans\n",
      "  (prop.get_family(), self.defaultFamily[fontext]))\n"
     ]
    },
    {
     "data": {
      "image/png": "[encoded data removed]",
      "text/plain": [
       "<matplotlib.figure.Figure at 0x7f7443151b38>"
      ]
     },
     "metadata": {},
     "output_type": "display_data"
    }
   ],
   "source": [
    "plt.plot(history.history['loss'])\n",
    "plt.plot(history.history['val_loss'])\n",
    "plt.title('model loss')\n",
    "plt.ylabel('loss')\n",
    "plt.xlabel('epoch')\n",
    "plt.legend(['train', 'test'], loc='upper left')\n",
    "plt.show()"
   ]
  },
  {
   "cell_type": "code",
   "execution_count": 25,
   "metadata": {},
   "outputs": [
    {
     "name": "stdout",
     "output_type": "stream",
     "text": [
      "Train on 28709 samples, validate on 3589 samples\n",
      "Epoch 1/50\n",
      "28709/28709 [==============================] - 38s 1ms/step - loss: 0.3266 - categorical_accuracy: 0.8813 - val_loss: 1.6832 - val_categorical_accuracy: 0.5921\n",
      "Epoch 2/50\n",
      "28709/28709 [==============================] - 38s 1ms/step - loss: 0.3269 - categorical_accuracy: 0.8818 - val_loss: 1.7400 - val_categorical_accuracy: 0.5943\n",
      "Epoch 3/50\n",
      "28709/28709 [==============================] - 38s 1ms/step - loss: 0.3183 - categorical_accuracy: 0.8847 - val_loss: 1.4437 - val_categorical_accuracy: 0.6392\n",
      "Epoch 4/50\n",
      "28709/28709 [==============================] - 38s 1ms/step - loss: 0.3097 - categorical_accuracy: 0.8884 - val_loss: 1.4781 - val_categorical_accuracy: 0.6353\n",
      "Epoch 5/50\n",
      "28709/28709 [==============================] - 38s 1ms/step - loss: 0.3047 - categorical_accuracy: 0.8897 - val_loss: 1.4817 - val_categorical_accuracy: 0.6442\n",
      "Epoch 6/50\n",
      "28709/28709 [==============================] - 38s 1ms/step - loss: 0.2925 - categorical_accuracy: 0.8912 - val_loss: 1.6602 - val_categorical_accuracy: 0.6013\n",
      "Epoch 7/50\n",
      "28709/28709 [==============================] - 38s 1ms/step - loss: 0.2795 - categorical_accuracy: 0.8982 - val_loss: 1.6047 - val_categorical_accuracy: 0.6074\n",
      "Epoch 8/50\n",
      "28709/28709 [==============================] - 38s 1ms/step - loss: 0.2768 - categorical_accuracy: 0.8996 - val_loss: 1.8585 - val_categorical_accuracy: 0.5821\n",
      "Epoch 9/50\n",
      "28709/28709 [==============================] - 38s 1ms/step - loss: 0.2762 - categorical_accuracy: 0.9002 - val_loss: 1.6518 - val_categorical_accuracy: 0.6099\n",
      "Epoch 10/50\n",
      "28709/28709 [==============================] - 38s 1ms/step - loss: 0.2671 - categorical_accuracy: 0.9030 - val_loss: 1.6022 - val_categorical_accuracy: 0.6291\n",
      "Epoch 11/50\n",
      "28709/28709 [==============================] - 38s 1ms/step - loss: 0.2580 - categorical_accuracy: 0.9062 - val_loss: 1.6121 - val_categorical_accuracy: 0.6333\n",
      "Epoch 12/50\n",
      "28709/28709 [==============================] - 38s 1ms/step - loss: 0.2569 - categorical_accuracy: 0.9065 - val_loss: 1.7481 - val_categorical_accuracy: 0.5968\n",
      "Epoch 13/50\n",
      "28709/28709 [==============================] - 38s 1ms/step - loss: 0.2474 - categorical_accuracy: 0.9096 - val_loss: 1.9203 - val_categorical_accuracy: 0.5963\n",
      "Epoch 14/50\n",
      "28709/28709 [==============================] - 38s 1ms/step - loss: 0.2510 - categorical_accuracy: 0.9093 - val_loss: 1.5397 - val_categorical_accuracy: 0.6464\n",
      "Epoch 15/50\n",
      "28709/28709 [==============================] - 38s 1ms/step - loss: 0.2491 - categorical_accuracy: 0.9109 - val_loss: 1.7860 - val_categorical_accuracy: 0.5988\n",
      "Epoch 16/50\n",
      "28709/28709 [==============================] - 38s 1ms/step - loss: 0.2332 - categorical_accuracy: 0.9148 - val_loss: 1.7292 - val_categorical_accuracy: 0.6211\n",
      "Epoch 17/50\n",
      "28709/28709 [==============================] - 38s 1ms/step - loss: 0.2328 - categorical_accuracy: 0.9157 - val_loss: 1.8145 - val_categorical_accuracy: 0.6147\n",
      "Epoch 18/50\n",
      "28709/28709 [==============================] - 38s 1ms/step - loss: 0.2276 - categorical_accuracy: 0.9189 - val_loss: 1.6961 - val_categorical_accuracy: 0.6367\n",
      "Epoch 19/50\n",
      "28709/28709 [==============================] - 38s 1ms/step - loss: 0.2252 - categorical_accuracy: 0.9196 - val_loss: 1.7860 - val_categorical_accuracy: 0.5943\n",
      "Epoch 20/50\n",
      "28709/28709 [==============================] - 38s 1ms/step - loss: 0.2199 - categorical_accuracy: 0.9190 - val_loss: 1.6552 - val_categorical_accuracy: 0.6369\n",
      "Epoch 21/50\n",
      "28709/28709 [==============================] - 38s 1ms/step - loss: 0.2051 - categorical_accuracy: 0.9258 - val_loss: 1.7841 - val_categorical_accuracy: 0.6085\n",
      "Epoch 22/50\n",
      "28709/28709 [==============================] - 38s 1ms/step - loss: 0.2090 - categorical_accuracy: 0.9257 - val_loss: 1.9129 - val_categorical_accuracy: 0.6035\n",
      "Epoch 23/50\n",
      "28709/28709 [==============================] - 38s 1ms/step - loss: 0.2086 - categorical_accuracy: 0.9244 - val_loss: 1.6590 - val_categorical_accuracy: 0.6358\n",
      "Epoch 24/50\n",
      "28709/28709 [==============================] - 38s 1ms/step - loss: 0.2037 - categorical_accuracy: 0.9269 - val_loss: 1.7382 - val_categorical_accuracy: 0.6328\n",
      "Epoch 25/50\n",
      "28709/28709 [==============================] - 38s 1ms/step - loss: 0.2003 - categorical_accuracy: 0.9299 - val_loss: 1.9255 - val_categorical_accuracy: 0.5982\n",
      "Epoch 26/50\n",
      "28709/28709 [==============================] - 38s 1ms/step - loss: 0.1923 - categorical_accuracy: 0.9294 - val_loss: 1.7981 - val_categorical_accuracy: 0.6289\n",
      "Epoch 27/50\n",
      "28709/28709 [==============================] - 38s 1ms/step - loss: 0.1899 - categorical_accuracy: 0.9323 - val_loss: 1.9658 - val_categorical_accuracy: 0.6096\n",
      "Epoch 28/50\n",
      "28709/28709 [==============================] - 38s 1ms/step - loss: 0.1841 - categorical_accuracy: 0.9332 - val_loss: 1.8009 - val_categorical_accuracy: 0.6219\n",
      "Epoch 29/50\n",
      "28709/28709 [==============================] - 38s 1ms/step - loss: 0.1831 - categorical_accuracy: 0.9362 - val_loss: 1.7530 - val_categorical_accuracy: 0.6342\n",
      "Epoch 30/50\n",
      "28709/28709 [==============================] - 38s 1ms/step - loss: 0.1823 - categorical_accuracy: 0.9346 - val_loss: 1.8002 - val_categorical_accuracy: 0.6222\n",
      "Epoch 31/50\n",
      "28709/28709 [==============================] - 38s 1ms/step - loss: 0.1738 - categorical_accuracy: 0.9378 - val_loss: 1.8821 - val_categorical_accuracy: 0.6233\n",
      "Epoch 32/50\n",
      "28709/28709 [==============================] - 38s 1ms/step - loss: 0.1804 - categorical_accuracy: 0.9364 - val_loss: 1.9215 - val_categorical_accuracy: 0.6035\n",
      "Epoch 33/50\n",
      "28709/28709 [==============================] - 38s 1ms/step - loss: 0.1747 - categorical_accuracy: 0.9379 - val_loss: 2.1630 - val_categorical_accuracy: 0.5907\n",
      "Epoch 34/50\n",
      "28709/28709 [==============================] - 38s 1ms/step - loss: 0.1622 - categorical_accuracy: 0.9425 - val_loss: 2.1706 - val_categorical_accuracy: 0.5874\n",
      "Epoch 35/50\n",
      "28709/28709 [==============================] - 38s 1ms/step - loss: 0.1642 - categorical_accuracy: 0.9404 - val_loss: 1.9035 - val_categorical_accuracy: 0.6208\n",
      "Epoch 36/50\n",
      "28709/28709 [==============================] - 38s 1ms/step - loss: 0.1651 - categorical_accuracy: 0.9392 - val_loss: 1.9089 - val_categorical_accuracy: 0.6222\n",
      "Epoch 37/50\n",
      "28709/28709 [==============================] - 38s 1ms/step - loss: 0.1640 - categorical_accuracy: 0.9398 - val_loss: 2.0195 - val_categorical_accuracy: 0.6278\n",
      "Epoch 38/50\n",
      "28709/28709 [==============================] - 38s 1ms/step - loss: 0.1667 - categorical_accuracy: 0.9408 - val_loss: 1.8697 - val_categorical_accuracy: 0.6297\n",
      "Epoch 39/50\n",
      "28709/28709 [==============================] - 38s 1ms/step - loss: 0.1626 - categorical_accuracy: 0.9413 - val_loss: 2.0544 - val_categorical_accuracy: 0.6004\n",
      "Epoch 40/50\n",
      "28709/28709 [==============================] - 38s 1ms/step - loss: 0.1621 - categorical_accuracy: 0.9419 - val_loss: 2.0542 - val_categorical_accuracy: 0.6158\n",
      "Epoch 41/50\n",
      "28709/28709 [==============================] - 38s 1ms/step - loss: 0.1608 - categorical_accuracy: 0.9419 - val_loss: 1.8738 - val_categorical_accuracy: 0.6194\n",
      "Epoch 42/50\n",
      "28709/28709 [==============================] - 38s 1ms/step - loss: 0.1511 - categorical_accuracy: 0.9467 - val_loss: 1.9895 - val_categorical_accuracy: 0.6188\n",
      "Epoch 43/50\n",
      "28709/28709 [==============================] - 38s 1ms/step - loss: 0.1541 - categorical_accuracy: 0.9452 - val_loss: 1.9041 - val_categorical_accuracy: 0.6317\n",
      "Epoch 44/50\n",
      "28709/28709 [==============================] - 38s 1ms/step - loss: 0.1546 - categorical_accuracy: 0.9441 - val_loss: 1.7901 - val_categorical_accuracy: 0.6459\n",
      "Epoch 45/50\n",
      "28709/28709 [==============================] - 38s 1ms/step - loss: 0.1511 - categorical_accuracy: 0.9471 - val_loss: 2.1496 - val_categorical_accuracy: 0.5940\n",
      "Epoch 46/50\n",
      "28709/28709 [==============================] - 38s 1ms/step - loss: 0.1439 - categorical_accuracy: 0.9507 - val_loss: 1.9076 - val_categorical_accuracy: 0.6280\n",
      "Epoch 47/50\n",
      "28709/28709 [==============================] - 38s 1ms/step - loss: 0.1422 - categorical_accuracy: 0.9497 - val_loss: 1.9718 - val_categorical_accuracy: 0.6155\n",
      "Epoch 48/50\n"
     ]
    },
    {
     "name": "stdout",
     "output_type": "stream",
     "text": [
      "28709/28709 [==============================] - 38s 1ms/step - loss: 0.1538 - categorical_accuracy: 0.9455 - val_loss: 1.9390 - val_categorical_accuracy: 0.6328\n",
      "Epoch 49/50\n",
      "28709/28709 [==============================] - 38s 1ms/step - loss: 0.1434 - categorical_accuracy: 0.9491 - val_loss: 1.8940 - val_categorical_accuracy: 0.6378\n",
      "Epoch 50/50\n",
      "28709/28709 [==============================] - 38s 1ms/step - loss: 0.1352 - categorical_accuracy: 0.9517 - val_loss: 1.9576 - val_categorical_accuracy: 0.6158\n"
     ]
    }
   ],
   "source": [
    "history2 = model.fit(X_train_bw, y_train, batch_size=256, epochs=50, validation_data=(X_val_bw, y_val))"
   ]
  },
  {
   "cell_type": "code",
   "execution_count": 28,
   "metadata": {},
   "outputs": [
    {
     "name": "stderr",
     "output_type": "stream",
     "text": [
      "/usr/local/envs/py3env/lib/python3.5/site-packages/matplotlib/font_manager.py:1320: UserWarning: findfont: Font family ['sans-serif'] not found. Falling back to DejaVu Sans\n",
      "  (prop.get_family(), self.defaultFamily[fontext]))\n"
     ]
    },
    {
     "data": {
      "image/png": "[encoded data removed]",
      "text/plain": [
       "<matplotlib.figure.Figure at 0x7f74405c99e8>"
      ]
     },
     "metadata": {},
     "output_type": "display_data"
    }
   ],
   "source": [
    "plt.plot(history2.history['categorical_accuracy'])\n",
    "plt.plot(history2.history['val_categorical_accuracy'])\n",
    "plt.title('model accuracy')\n",
    "plt.ylabel('accuracy')\n",
    "plt.xlabel('epoch')\n",
    "plt.legend(['train', 'test'], loc='upper left')\n",
    "plt.show()"
   ]
  },
  {
   "cell_type": "code",
   "execution_count": 29,
   "metadata": {},
   "outputs": [
    {
     "name": "stdout",
     "output_type": "stream",
     "text": [
      "3589/3589 [==============================] - 4s 1ms/step\n"
     ]
    },
    {
     "data": {
      "text/plain": [
       "[1.816372376226987, 0.6355530788852631]"
      ]
     },
     "execution_count": 29,
     "metadata": {},
     "output_type": "execute_result"
    }
   ],
   "source": [
    "model.evaluate(X_test_bw, y = y_test, verbose=1)"
   ]
  },
  {
   "cell_type": "code",
   "execution_count": 30,
   "metadata": {},
   "outputs": [],
   "source": [
    "model.save_weights('alexnet.h5')"
   ]
  }
 ],
 "metadata": {
  "kernelspec": {
   "display_name": "Python 3",
   "language": "python",
   "name": "python3"
  },
  "language_info": {
   "codemirror_mode": {
    "name": "ipython",
    "version": 3
   },
   "file_extension": ".py",
   "mimetype": "text/x-python",
   "name": "python",
   "nbconvert_exporter": "python",
   "pygments_lexer": "ipython3",
   "version": "3.5.6"
  }
 },
 "nbformat": 4,
 "nbformat_minor": 2
}
