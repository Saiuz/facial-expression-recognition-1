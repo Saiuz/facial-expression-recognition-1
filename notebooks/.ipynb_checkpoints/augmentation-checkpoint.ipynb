{
 "cells": [
  {
   "cell_type": "code",
   "execution_count": 3,
   "metadata": {},
   "outputs": [
    {
     "name": "stderr",
     "output_type": "stream",
     "text": [
      "Using TensorFlow backend.\n"
     ]
    }
   ],
   "source": [
    "import pandas as pd\n",
    "import numpy as np\n",
    "\n",
    "from scipy.ndimage import rotate\n",
    "from scipy.ndimage import gaussian_filter\n",
    "\n",
    "import matplotlib.pyplot as plt\n",
    "\n",
    "import random\n",
    "\n",
    "import keras\n",
    "\n",
    "%matplotlib inline"
   ]
  },
  {
   "cell_type": "code",
   "execution_count": 4,
   "metadata": {},
   "outputs": [],
   "source": [
    "mapping = {\n",
    "    0: 'Angry',\n",
    "    1: 'Disgust',\n",
    "    2: 'Fear',\n",
    "    3: 'Happy',\n",
    "    4: 'Sad',\n",
    "    5: 'Surprise',\n",
    "    6: 'Neutral'\n",
    "}\n",
    "\n",
    "imapping = {\n",
    "    'Angry': 0,\n",
    "    'Disgust': 1,\n",
    "    'Fear': 2,\n",
    "    'Happy': 3,\n",
    "    'Sad': 4,\n",
    "    'Surprise': 5,\n",
    "    'Neutral': 6\n",
    "}\n",
    "\n",
    "\n",
    "def flip_horizontally(image):\n",
    "    return np.flip(image, axis=1)\n",
    "\n",
    "\n",
    "def add_noise(image):\n",
    "    return image + np.random.poisson(image.astype('float64'))\n",
    "\n",
    "\n",
    "def rotate_right(image, angle=-20):\n",
    "    return rotate(image, angle, mode='reflect', reshape=False)\n",
    "\n",
    "\n",
    "def rotate_left(image, angle=20):\n",
    "    return rotate(image, angle, mode='reflect', reshape=False)\n",
    "\n",
    "\n",
    "def add_blur(image):\n",
    "    return gaussian_filter(image, sigma=1)"
   ]
  },
  {
   "cell_type": "code",
   "execution_count": 5,
   "metadata": {},
   "outputs": [],
   "source": [
    "def find_subsets(df: pd.DataFrame, class_to_fraction: dict):\n",
    "    \"\"\"\n",
    "    select random subsets for given classes with given fractions\n",
    "    :param df: data\n",
    "    :param class_to_fraction: dictionary {'emotion' : fraction of the data to that is going to be augmented}\n",
    "    :return: indices of the images to augmented\n",
    "    \"\"\"\n",
    "    data = df.loc[df['y'].isin(class_to_fraction.keys())]\n",
    "    indices = []\n",
    "    for emotion in class_to_fraction.keys():\n",
    "        temp = data.loc[data['y'] == emotion]\n",
    "        indices = indices + random.sample(temp.index.tolist(), int(class_to_fraction[emotion] * len(temp)))\n",
    "\n",
    "    return indices"
   ]
  },
  {
   "cell_type": "code",
   "execution_count": 6,
   "metadata": {},
   "outputs": [],
   "source": [
    "class Augmenter:\n",
    "\n",
    "    @staticmethod\n",
    "    def augment_images(df: pd.DataFrame, \n",
    "                       target_file: str = None, \n",
    "                       class_to_fraction: dict = {'Disgust': 1}, \n",
    "                       augmentations: list = ['flip']) -> pd.DataFrame:\n",
    "\n",
    "        # df = pd.read_csv(source_file)\n",
    "\n",
    "        df['category'] = df['category'].str.strip()\n",
    "\n",
    "        del df['Unnamed: 0']\n",
    "\n",
    "        df['y'] = df['y'].map(mapping)\n",
    "\n",
    "        indices = find_subsets(df, class_to_fraction)\n",
    "\n",
    "        print(len(indices))\n",
    "        temp = []\n",
    "\n",
    "        if 'flip' in augmentations:\n",
    "            for index in indices:\n",
    "                temp.append([df.iloc[index, 0]] + flip_horizontally(\n",
    "                    np.array(df.iloc[index, 1:2305]).reshape((48, 48))).flatten().tolist() + [df.iloc[index, 2305]])\n",
    "\n",
    "        if 'noise' in augmentations:\n",
    "            for index in indices:\n",
    "                temp.append([df.iloc[index, 0]] + add_noise(\n",
    "                    np.array(df.iloc[index, 1:2305]).reshape((48, 48))).flatten().tolist() + [df.iloc[index, 2305]])\n",
    "\n",
    "        if 'rotate_right' in augmentations:\n",
    "            for index in indices:\n",
    "                temp.append([df.iloc[index, 0]] + rotate_right(\n",
    "                    np.array(df.iloc[index, 1:2305], dtype='int').reshape((48, 48))).flatten().tolist() + [df.iloc[index, 2305]])\n",
    "\n",
    "        if 'rotate_left' in augmentations:\n",
    "            for index in indices:\n",
    "                temp.append([df.iloc[index, 0]] + rotate_left(\n",
    "                    np.array(df.iloc[index, 1:2305], dtype='int').reshape((48, 48))).flatten().tolist() + [df.iloc[index, 2305]])\n",
    "\n",
    "        if 'blur' in augmentations:\n",
    "            for index in indices:\n",
    "                temp.append([df.iloc[index, 0]] + add_blur(\n",
    "                    np.array(df.iloc[index, 1:2305], dtype='int').reshape((48, 48))).flatten().tolist() + [df.iloc[index, 2305]])\n",
    "\n",
    "        print(len(temp))\n",
    "\n",
    "        data = pd.DataFrame(temp, columns=df.columns)\n",
    "\n",
    "        if target_file:\n",
    "            data.to_csv(target_file)\n",
    "\n",
    "        return data"
   ]
  },
  {
   "cell_type": "markdown",
   "metadata": {},
   "source": [
    "### Read data"
   ]
  },
  {
   "cell_type": "code",
   "execution_count": 7,
   "metadata": {},
   "outputs": [],
   "source": [
    "df = pd.read_csv('emotions.csv')"
   ]
  },
  {
   "cell_type": "code",
   "execution_count": 8,
   "metadata": {},
   "outputs": [],
   "source": [
    "df['category'] = df['category'].str.strip()"
   ]
  },
  {
   "cell_type": "code",
   "execution_count": 9,
   "metadata": {},
   "outputs": [],
   "source": [
    "train = df[df['category'] == 'Training']\n",
    "valid = df.loc[df.category == 'PublicTest']\n",
    "test  = df.loc[df.category == 'PrivateTest']"
   ]
  },
  {
   "cell_type": "code",
   "execution_count": 10,
   "metadata": {},
   "outputs": [],
   "source": [
    "del df"
   ]
  },
  {
   "cell_type": "markdown",
   "metadata": {},
   "source": [
    "#### Create a dictionary with classes fractions to augment"
   ]
  },
  {
   "cell_type": "code",
   "execution_count": 11,
   "metadata": {},
   "outputs": [],
   "source": [
    "ctf = {\n",
    "    'Disgust': 1,\n",
    "    'Fear': 0.5,\n",
    "    'Angry': 0.5,\n",
    "    'Surprise': 0.1,\n",
    "    'Happy': 0.1,\n",
    "    'Sad': 0.1,\n",
    "    'Neutral': 0.1\n",
    "}"
   ]
  },
  {
   "cell_type": "code",
   "execution_count": 12,
   "metadata": {},
   "outputs": [
    {
     "name": "stdout",
     "output_type": "stream",
     "text": [
      "6498\n",
      "32490\n"
     ]
    }
   ],
   "source": [
    "aug = Augmenter.augment_images(train.copy(), None, ctf, ['flip', 'rotate_right', 'rotate_left', 'blur', 'noise'])"
   ]
  },
  {
   "cell_type": "code",
   "execution_count": 13,
   "metadata": {},
   "outputs": [
    {
     "data": {
      "text/html": [
       "<div>\n",
       "<style scoped>\n",
       "    .dataframe tbody tr th:only-of-type {\n",
       "        vertical-align: middle;\n",
       "    }\n",
       "\n",
       "    .dataframe tbody tr th {\n",
       "        vertical-align: top;\n",
       "    }\n",
       "\n",
       "    .dataframe thead th {\n",
       "        text-align: right;\n",
       "    }\n",
       "</style>\n",
       "<table border=\"1\" class=\"dataframe\">\n",
       "  <thead>\n",
       "    <tr style=\"text-align: right;\">\n",
       "      <th></th>\n",
       "      <th>Unnamed: 0</th>\n",
       "      <th>y</th>\n",
       "      <th>0</th>\n",
       "      <th>1</th>\n",
       "      <th>2</th>\n",
       "      <th>3</th>\n",
       "      <th>4</th>\n",
       "      <th>5</th>\n",
       "      <th>6</th>\n",
       "      <th>7</th>\n",
       "      <th>...</th>\n",
       "      <th>2295</th>\n",
       "      <th>2296</th>\n",
       "      <th>2297</th>\n",
       "      <th>2298</th>\n",
       "      <th>2299</th>\n",
       "      <th>2300</th>\n",
       "      <th>2301</th>\n",
       "      <th>2302</th>\n",
       "      <th>2303</th>\n",
       "      <th>category</th>\n",
       "    </tr>\n",
       "  </thead>\n",
       "  <tbody>\n",
       "    <tr>\n",
       "      <th>0</th>\n",
       "      <td>0</td>\n",
       "      <td>0</td>\n",
       "      <td>70</td>\n",
       "      <td>80</td>\n",
       "      <td>82</td>\n",
       "      <td>72</td>\n",
       "      <td>58</td>\n",
       "      <td>58</td>\n",
       "      <td>60</td>\n",
       "      <td>63</td>\n",
       "      <td>...</td>\n",
       "      <td>182</td>\n",
       "      <td>183</td>\n",
       "      <td>136</td>\n",
       "      <td>106</td>\n",
       "      <td>116</td>\n",
       "      <td>95</td>\n",
       "      <td>106</td>\n",
       "      <td>109</td>\n",
       "      <td>82</td>\n",
       "      <td>Training</td>\n",
       "    </tr>\n",
       "    <tr>\n",
       "      <th>1</th>\n",
       "      <td>1</td>\n",
       "      <td>0</td>\n",
       "      <td>151</td>\n",
       "      <td>150</td>\n",
       "      <td>147</td>\n",
       "      <td>155</td>\n",
       "      <td>148</td>\n",
       "      <td>133</td>\n",
       "      <td>111</td>\n",
       "      <td>140</td>\n",
       "      <td>...</td>\n",
       "      <td>108</td>\n",
       "      <td>95</td>\n",
       "      <td>108</td>\n",
       "      <td>102</td>\n",
       "      <td>67</td>\n",
       "      <td>171</td>\n",
       "      <td>193</td>\n",
       "      <td>183</td>\n",
       "      <td>184</td>\n",
       "      <td>Training</td>\n",
       "    </tr>\n",
       "    <tr>\n",
       "      <th>2</th>\n",
       "      <td>2</td>\n",
       "      <td>2</td>\n",
       "      <td>231</td>\n",
       "      <td>212</td>\n",
       "      <td>156</td>\n",
       "      <td>164</td>\n",
       "      <td>174</td>\n",
       "      <td>138</td>\n",
       "      <td>161</td>\n",
       "      <td>173</td>\n",
       "      <td>...</td>\n",
       "      <td>138</td>\n",
       "      <td>152</td>\n",
       "      <td>122</td>\n",
       "      <td>114</td>\n",
       "      <td>101</td>\n",
       "      <td>97</td>\n",
       "      <td>88</td>\n",
       "      <td>110</td>\n",
       "      <td>152</td>\n",
       "      <td>Training</td>\n",
       "    </tr>\n",
       "    <tr>\n",
       "      <th>3</th>\n",
       "      <td>3</td>\n",
       "      <td>4</td>\n",
       "      <td>24</td>\n",
       "      <td>32</td>\n",
       "      <td>36</td>\n",
       "      <td>30</td>\n",
       "      <td>32</td>\n",
       "      <td>23</td>\n",
       "      <td>19</td>\n",
       "      <td>20</td>\n",
       "      <td>...</td>\n",
       "      <td>126</td>\n",
       "      <td>132</td>\n",
       "      <td>132</td>\n",
       "      <td>133</td>\n",
       "      <td>136</td>\n",
       "      <td>139</td>\n",
       "      <td>142</td>\n",
       "      <td>143</td>\n",
       "      <td>142</td>\n",
       "      <td>Training</td>\n",
       "    </tr>\n",
       "    <tr>\n",
       "      <th>4</th>\n",
       "      <td>4</td>\n",
       "      <td>6</td>\n",
       "      <td>4</td>\n",
       "      <td>0</td>\n",
       "      <td>0</td>\n",
       "      <td>0</td>\n",
       "      <td>0</td>\n",
       "      <td>0</td>\n",
       "      <td>0</td>\n",
       "      <td>0</td>\n",
       "      <td>...</td>\n",
       "      <td>34</td>\n",
       "      <td>31</td>\n",
       "      <td>31</td>\n",
       "      <td>31</td>\n",
       "      <td>27</td>\n",
       "      <td>31</td>\n",
       "      <td>30</td>\n",
       "      <td>29</td>\n",
       "      <td>30</td>\n",
       "      <td>Training</td>\n",
       "    </tr>\n",
       "  </tbody>\n",
       "</table>\n",
       "<p>5 rows × 2307 columns</p>\n",
       "</div>"
      ],
      "text/plain": [
       "   Unnamed: 0  y    0    1    2    3    4    5    6    7    ...     2295  \\\n",
       "0           0  0   70   80   82   72   58   58   60   63    ...      182   \n",
       "1           1  0  151  150  147  155  148  133  111  140    ...      108   \n",
       "2           2  2  231  212  156  164  174  138  161  173    ...      138   \n",
       "3           3  4   24   32   36   30   32   23   19   20    ...      126   \n",
       "4           4  6    4    0    0    0    0    0    0    0    ...       34   \n",
       "\n",
       "   2296  2297  2298  2299  2300  2301  2302  2303  category  \n",
       "0   183   136   106   116    95   106   109    82  Training  \n",
       "1    95   108   102    67   171   193   183   184  Training  \n",
       "2   152   122   114   101    97    88   110   152  Training  \n",
       "3   132   132   133   136   139   142   143   142  Training  \n",
       "4    31    31    31    27    31    30    29    30  Training  \n",
       "\n",
       "[5 rows x 2307 columns]"
      ]
     },
     "execution_count": 13,
     "metadata": {},
     "output_type": "execute_result"
    }
   ],
   "source": [
    "train.head()"
   ]
  },
  {
   "cell_type": "code",
   "execution_count": 14,
   "metadata": {},
   "outputs": [
    {
     "data": {
      "text/html": [
       "<div>\n",
       "<style scoped>\n",
       "    .dataframe tbody tr th:only-of-type {\n",
       "        vertical-align: middle;\n",
       "    }\n",
       "\n",
       "    .dataframe tbody tr th {\n",
       "        vertical-align: top;\n",
       "    }\n",
       "\n",
       "    .dataframe thead th {\n",
       "        text-align: right;\n",
       "    }\n",
       "</style>\n",
       "<table border=\"1\" class=\"dataframe\">\n",
       "  <thead>\n",
       "    <tr style=\"text-align: right;\">\n",
       "      <th></th>\n",
       "      <th>y</th>\n",
       "      <th>0</th>\n",
       "      <th>1</th>\n",
       "      <th>2</th>\n",
       "      <th>3</th>\n",
       "      <th>4</th>\n",
       "      <th>5</th>\n",
       "      <th>6</th>\n",
       "      <th>7</th>\n",
       "      <th>8</th>\n",
       "      <th>...</th>\n",
       "      <th>2295</th>\n",
       "      <th>2296</th>\n",
       "      <th>2297</th>\n",
       "      <th>2298</th>\n",
       "      <th>2299</th>\n",
       "      <th>2300</th>\n",
       "      <th>2301</th>\n",
       "      <th>2302</th>\n",
       "      <th>2303</th>\n",
       "      <th>category</th>\n",
       "    </tr>\n",
       "  </thead>\n",
       "  <tbody>\n",
       "    <tr>\n",
       "      <th>0</th>\n",
       "      <td>Happy</td>\n",
       "      <td>135</td>\n",
       "      <td>229</td>\n",
       "      <td>200</td>\n",
       "      <td>102</td>\n",
       "      <td>204</td>\n",
       "      <td>112</td>\n",
       "      <td>18</td>\n",
       "      <td>35</td>\n",
       "      <td>86</td>\n",
       "      <td>...</td>\n",
       "      <td>34</td>\n",
       "      <td>36</td>\n",
       "      <td>43</td>\n",
       "      <td>27</td>\n",
       "      <td>15</td>\n",
       "      <td>13</td>\n",
       "      <td>12</td>\n",
       "      <td>10</td>\n",
       "      <td>7</td>\n",
       "      <td>Training</td>\n",
       "    </tr>\n",
       "    <tr>\n",
       "      <th>1</th>\n",
       "      <td>Happy</td>\n",
       "      <td>255</td>\n",
       "      <td>255</td>\n",
       "      <td>255</td>\n",
       "      <td>255</td>\n",
       "      <td>255</td>\n",
       "      <td>255</td>\n",
       "      <td>255</td>\n",
       "      <td>255</td>\n",
       "      <td>255</td>\n",
       "      <td>...</td>\n",
       "      <td>223</td>\n",
       "      <td>250</td>\n",
       "      <td>255</td>\n",
       "      <td>231</td>\n",
       "      <td>208</td>\n",
       "      <td>241</td>\n",
       "      <td>255</td>\n",
       "      <td>254</td>\n",
       "      <td>255</td>\n",
       "      <td>Training</td>\n",
       "    </tr>\n",
       "    <tr>\n",
       "      <th>2</th>\n",
       "      <td>Happy</td>\n",
       "      <td>61</td>\n",
       "      <td>65</td>\n",
       "      <td>74</td>\n",
       "      <td>72</td>\n",
       "      <td>90</td>\n",
       "      <td>116</td>\n",
       "      <td>133</td>\n",
       "      <td>147</td>\n",
       "      <td>157</td>\n",
       "      <td>...</td>\n",
       "      <td>161</td>\n",
       "      <td>159</td>\n",
       "      <td>146</td>\n",
       "      <td>147</td>\n",
       "      <td>152</td>\n",
       "      <td>158</td>\n",
       "      <td>164</td>\n",
       "      <td>167</td>\n",
       "      <td>168</td>\n",
       "      <td>Training</td>\n",
       "    </tr>\n",
       "    <tr>\n",
       "      <th>3</th>\n",
       "      <td>Happy</td>\n",
       "      <td>105</td>\n",
       "      <td>111</td>\n",
       "      <td>116</td>\n",
       "      <td>121</td>\n",
       "      <td>125</td>\n",
       "      <td>125</td>\n",
       "      <td>128</td>\n",
       "      <td>135</td>\n",
       "      <td>140</td>\n",
       "      <td>...</td>\n",
       "      <td>159</td>\n",
       "      <td>166</td>\n",
       "      <td>152</td>\n",
       "      <td>96</td>\n",
       "      <td>129</td>\n",
       "      <td>181</td>\n",
       "      <td>160</td>\n",
       "      <td>198</td>\n",
       "      <td>173</td>\n",
       "      <td>Training</td>\n",
       "    </tr>\n",
       "    <tr>\n",
       "      <th>4</th>\n",
       "      <td>Happy</td>\n",
       "      <td>52</td>\n",
       "      <td>62</td>\n",
       "      <td>68</td>\n",
       "      <td>50</td>\n",
       "      <td>98</td>\n",
       "      <td>124</td>\n",
       "      <td>88</td>\n",
       "      <td>62</td>\n",
       "      <td>89</td>\n",
       "      <td>...</td>\n",
       "      <td>113</td>\n",
       "      <td>110</td>\n",
       "      <td>144</td>\n",
       "      <td>156</td>\n",
       "      <td>172</td>\n",
       "      <td>151</td>\n",
       "      <td>105</td>\n",
       "      <td>105</td>\n",
       "      <td>143</td>\n",
       "      <td>Training</td>\n",
       "    </tr>\n",
       "  </tbody>\n",
       "</table>\n",
       "<p>5 rows × 2306 columns</p>\n",
       "</div>"
      ],
      "text/plain": [
       "       y    0    1    2    3    4    5    6    7    8    ...     2295  2296  \\\n",
       "0  Happy  135  229  200  102  204  112   18   35   86    ...       34    36   \n",
       "1  Happy  255  255  255  255  255  255  255  255  255    ...      223   250   \n",
       "2  Happy   61   65   74   72   90  116  133  147  157    ...      161   159   \n",
       "3  Happy  105  111  116  121  125  125  128  135  140    ...      159   166   \n",
       "4  Happy   52   62   68   50   98  124   88   62   89    ...      113   110   \n",
       "\n",
       "   2297  2298  2299  2300  2301  2302  2303  category  \n",
       "0    43    27    15    13    12    10     7  Training  \n",
       "1   255   231   208   241   255   254   255  Training  \n",
       "2   146   147   152   158   164   167   168  Training  \n",
       "3   152    96   129   181   160   198   173  Training  \n",
       "4   144   156   172   151   105   105   143  Training  \n",
       "\n",
       "[5 rows x 2306 columns]"
      ]
     },
     "execution_count": 14,
     "metadata": {},
     "output_type": "execute_result"
    }
   ],
   "source": [
    "aug.head()"
   ]
  },
  {
   "cell_type": "code",
   "execution_count": 15,
   "metadata": {},
   "outputs": [],
   "source": [
    "del train['Unnamed: 0']\n",
    "del valid['Unnamed: 0']\n",
    "del test['Unnamed: 0']"
   ]
  },
  {
   "cell_type": "code",
   "execution_count": 16,
   "metadata": {},
   "outputs": [],
   "source": [
    "aug['y'] = aug['y'].map(imapping)"
   ]
  },
  {
   "cell_type": "code",
   "execution_count": 17,
   "metadata": {},
   "outputs": [],
   "source": [
    "train = train.append(aug.sample(frac=1), ignore_index=True)"
   ]
  },
  {
   "cell_type": "code",
   "execution_count": 18,
   "metadata": {},
   "outputs": [],
   "source": [
    "del aug"
   ]
  },
  {
   "cell_type": "code",
   "execution_count": 19,
   "metadata": {},
   "outputs": [],
   "source": [
    "X_train = np.array(train.iloc[:, 1:2305])\n",
    "y_train = np.array(train.loc[:, ['y']])\n",
    "\n",
    "X_val = np.array(valid.iloc[:, 1:2305])\n",
    "y_val = np.array(valid.loc[:, ['y']])\n",
    "\n",
    "X_test = np.array(test.iloc[:, 1:2305])\n",
    "y_test = np.array(test.loc[:, ['y']])"
   ]
  },
  {
   "cell_type": "code",
   "execution_count": 20,
   "metadata": {},
   "outputs": [],
   "source": [
    "del train\n",
    "del valid\n",
    "del test"
   ]
  },
  {
   "cell_type": "code",
   "execution_count": 21,
   "metadata": {},
   "outputs": [],
   "source": [
    "y_train = keras.utils.to_categorical(y_train, 7)\n",
    "y_val = keras.utils.to_categorical(y_val, 7)\n",
    "y_test = keras.utils.to_categorical(y_test, 7)\n",
    "\n",
    "X_train_r = X_train.reshape((len(X_train), 48, 48))\n",
    "X_val_r   = X_val.reshape((len(X_val), 48, 48))\n",
    "X_test_r   = X_test.reshape((len(X_test), 48, 48))"
   ]
  },
  {
   "cell_type": "code",
   "execution_count": 22,
   "metadata": {},
   "outputs": [],
   "source": [
    "del X_train\n",
    "del X_val\n",
    "del X_test"
   ]
  },
  {
   "cell_type": "code",
   "execution_count": 23,
   "metadata": {},
   "outputs": [],
   "source": [
    "X_train_r = X_train_r / 255\n",
    "X_val_r = X_val_r / 255\n",
    "X_test_r = X_test_r / 255\n",
    "\n",
    "# X_train_rgb = np.stack((X_train_r,) * 3, axis = -1)\n",
    "# X_val_rgb = np.stack((X_val_r, ) * 3, axis = -1)\n",
    "# X_test_rgb = np.stack((X_test_r, ) * 3, axis = -1)"
   ]
  },
  {
   "cell_type": "code",
   "execution_count": 24,
   "metadata": {},
   "outputs": [],
   "source": [
    "X_train_bw = X_train_r.reshape((len(X_train_r), 48, 48, 1))\n",
    "X_val_bw = X_val_r.reshape((len(X_val_r), 48, 48, 1))\n",
    "X_test_bw = X_test_r.reshape((len(X_test_r), 48, 48, 1))"
   ]
  },
  {
   "cell_type": "markdown",
   "metadata": {},
   "source": [
    "### Model"
   ]
  },
  {
   "cell_type": "code",
   "execution_count": 25,
   "metadata": {},
   "outputs": [],
   "source": [
    "from keras.models import Sequential\n",
    "from keras.layers import Dense, Dropout, Activation, Flatten, Conv2D, MaxPooling2D\n",
    "from keras.layers.normalization import BatchNormalization\n",
    "from keras import optimizers\n",
    "\n",
    "from keras.models import model_from_json\n",
    "\n",
    "from keras.metrics import categorical_accuracy\n",
    "\n",
    "np.random.seed(100)"
   ]
  },
  {
   "cell_type": "code",
   "execution_count": 44,
   "metadata": {},
   "outputs": [],
   "source": [
    "model = Sequential()\n",
    "\n",
    "model.add(Conv2D(64,(3,3), padding='same', input_shape=(48, 48,1)))\n",
    "model.add(BatchNormalization())\n",
    "model.add(Activation('relu'))\n",
    "model.add(MaxPooling2D(pool_size=(2, 2)))\n",
    "model.add(Dropout(0.5))\n",
    "\n",
    "model.add(Conv2D(128,(5,5), padding='same'))\n",
    "model.add(BatchNormalization())\n",
    "model.add(Activation('relu'))\n",
    "model.add(MaxPooling2D(pool_size=(2, 2)))\n",
    "model.add(Dropout(0.5))\n",
    "\n",
    "model.add(Conv2D(512,(3,3), padding='same'))\n",
    "model.add(BatchNormalization())\n",
    "model.add(Activation('relu'))\n",
    "model.add(MaxPooling2D(pool_size=(2, 2)))\n",
    "model.add(Dropout(0.5))\n",
    "\n",
    "model.add(Conv2D(512,(3,3), padding='same'))\n",
    "model.add(BatchNormalization())\n",
    "model.add(Activation('relu'))\n",
    "model.add(MaxPooling2D(pool_size=(2, 2)))\n",
    "model.add(Dropout(0.5))\n",
    "\n",
    "model.add(Flatten())\n",
    "\n",
    "model.add(Dense(256))\n",
    "model.add(BatchNormalization())\n",
    "model.add(Activation('relu'))\n",
    "model.add(Dropout(0.5))\n",
    "\n",
    "model.add(Dense(512))\n",
    "model.add(BatchNormalization())\n",
    "model.add(Activation('relu'))\n",
    "model.add(Dropout(0.5))\n",
    "\n",
    "model.add(Dense(7, activation='softmax'))\n",
    "\n",
    "model.compile(optimizer='adam', loss='categorical_crossentropy', metrics=[categorical_accuracy])"
   ]
  },
  {
   "cell_type": "code",
   "execution_count": 45,
   "metadata": {},
   "outputs": [],
   "source": [
    "model.load_weights('baseline.h5')"
   ]
  },
  {
   "cell_type": "code",
   "execution_count": 46,
   "metadata": {},
   "outputs": [
    {
     "name": "stdout",
     "output_type": "stream",
     "text": [
      "Train on 61199 samples, validate on 3589 samples\n",
      "Epoch 1/20\n",
      "61199/61199 [==============================] - 64s 1ms/step - loss: 1.3598 - categorical_accuracy: 0.5814 - val_loss: 1.0504 - val_categorical_accuracy: 0.6147\n",
      "Epoch 2/20\n",
      "61199/61199 [==============================] - 62s 1ms/step - loss: 1.0510 - categorical_accuracy: 0.6223 - val_loss: 1.0133 - val_categorical_accuracy: 0.6322\n",
      "Epoch 3/20\n",
      "61199/61199 [==============================] - 62s 1ms/step - loss: 0.9974 - categorical_accuracy: 0.6396 - val_loss: 1.0301 - val_categorical_accuracy: 0.6356\n",
      "Epoch 4/20\n",
      "61199/61199 [==============================] - 62s 1ms/step - loss: 0.9636 - categorical_accuracy: 0.6508 - val_loss: 1.0015 - val_categorical_accuracy: 0.6456\n",
      "Epoch 5/20\n",
      "61199/61199 [==============================] - 62s 1ms/step - loss: 0.9379 - categorical_accuracy: 0.6583 - val_loss: 1.0072 - val_categorical_accuracy: 0.6450\n",
      "Epoch 6/20\n",
      "61199/61199 [==============================] - 62s 1ms/step - loss: 0.9237 - categorical_accuracy: 0.6645 - val_loss: 0.9949 - val_categorical_accuracy: 0.6470\n",
      "Epoch 7/20\n",
      "61199/61199 [==============================] - 62s 1ms/step - loss: 0.9052 - categorical_accuracy: 0.6701 - val_loss: 1.0003 - val_categorical_accuracy: 0.6523\n",
      "Epoch 8/20\n",
      "61199/61199 [==============================] - 63s 1ms/step - loss: 0.8912 - categorical_accuracy: 0.6746 - val_loss: 1.0182 - val_categorical_accuracy: 0.6422\n",
      "Epoch 9/20\n",
      "61199/61199 [==============================] - 63s 1ms/step - loss: 0.8806 - categorical_accuracy: 0.6785 - val_loss: 1.0123 - val_categorical_accuracy: 0.6500\n",
      "Epoch 10/20\n",
      "61199/61199 [==============================] - 62s 1ms/step - loss: 0.8669 - categorical_accuracy: 0.6837 - val_loss: 1.0507 - val_categorical_accuracy: 0.6289\n",
      "Epoch 11/20\n",
      "61199/61199 [==============================] - 63s 1ms/step - loss: 0.8589 - categorical_accuracy: 0.6882 - val_loss: 1.0157 - val_categorical_accuracy: 0.6422\n",
      "Epoch 12/20\n",
      "61199/61199 [==============================] - 62s 1ms/step - loss: 0.8512 - categorical_accuracy: 0.6899 - val_loss: 1.0218 - val_categorical_accuracy: 0.6478\n",
      "Epoch 13/20\n",
      "61199/61199 [==============================] - 63s 1ms/step - loss: 0.8439 - categorical_accuracy: 0.6930 - val_loss: 1.0441 - val_categorical_accuracy: 0.6375\n",
      "Epoch 14/20\n",
      "61199/61199 [==============================] - 62s 1ms/step - loss: 0.8368 - categorical_accuracy: 0.6949 - val_loss: 1.0174 - val_categorical_accuracy: 0.6456\n",
      "Epoch 15/20\n",
      "61199/61199 [==============================] - 63s 1ms/step - loss: 0.8289 - categorical_accuracy: 0.6986 - val_loss: 1.0589 - val_categorical_accuracy: 0.6344\n",
      "Epoch 16/20\n",
      "61199/61199 [==============================] - 62s 1ms/step - loss: 0.8203 - categorical_accuracy: 0.7007 - val_loss: 1.0261 - val_categorical_accuracy: 0.6464\n",
      "Epoch 17/20\n",
      "61199/61199 [==============================] - 63s 1ms/step - loss: 0.8117 - categorical_accuracy: 0.7019 - val_loss: 1.0268 - val_categorical_accuracy: 0.6486\n",
      "Epoch 18/20\n",
      "61199/61199 [==============================] - 62s 1ms/step - loss: 0.8036 - categorical_accuracy: 0.7067 - val_loss: 1.0167 - val_categorical_accuracy: 0.6545\n",
      "Epoch 19/20\n",
      "61199/61199 [==============================] - 62s 1ms/step - loss: 0.7998 - categorical_accuracy: 0.7087 - val_loss: 1.0275 - val_categorical_accuracy: 0.6400\n",
      "Epoch 20/20\n",
      "61199/61199 [==============================] - 62s 1ms/step - loss: 0.7932 - categorical_accuracy: 0.7117 - val_loss: 1.0152 - val_categorical_accuracy: 0.6498\n"
     ]
    }
   ],
   "source": [
    "history = model.fit(X_train_bw, y_train, batch_size=128, epochs=20, validation_data=(X_val_bw, y_val))"
   ]
  },
  {
   "cell_type": "code",
   "execution_count": 47,
   "metadata": {},
   "outputs": [
    {
     "name": "stdout",
     "output_type": "stream",
     "text": [
      "3589/3589 [==============================] - 2s 459us/step\n"
     ]
    },
    {
     "data": {
      "text/plain": [
       "[0.97521375563524, 0.6625801058956825]"
      ]
     },
     "execution_count": 47,
     "metadata": {},
     "output_type": "execute_result"
    }
   ],
   "source": [
    "model.evaluate(X_test_bw, y_test)"
   ]
  },
  {
   "cell_type": "code",
   "execution_count": 54,
   "metadata": {},
   "outputs": [
    {
     "name": "stderr",
     "output_type": "stream",
     "text": [
      "/usr/local/envs/py3env/lib/python3.5/site-packages/matplotlib/font_manager.py:1320: UserWarning: findfont: Font family ['sans-serif'] not found. Falling back to DejaVu Sans\n",
      "  (prop.get_family(), self.defaultFamily[fontext]))\n"
     ]
    },
    {
     "data": {
      "image/png": "[encoded data removed]",
      "text/plain": [
       "<matplotlib.figure.Figure at 0x7f1767aaed30>"
      ]
     },
     "metadata": {},
     "output_type": "display_data"
    }
   ],
   "source": [
    "plt.plot(history.history['categorical_accuracy'])\n",
    "plt.plot(history.history['val_categorical_accuracy'])\n",
    "plt.title('model accuracy')\n",
    "plt.ylabel('accuracy')\n",
    "plt.xlabel('epoch')\n",
    "plt.legend(['train', 'test'], loc='upper left')\n",
    "plt.show()"
   ]
  },
  {
   "cell_type": "code",
   "execution_count": 55,
   "metadata": {},
   "outputs": [
    {
     "name": "stderr",
     "output_type": "stream",
     "text": [
      "/usr/local/envs/py3env/lib/python3.5/site-packages/matplotlib/font_manager.py:1320: UserWarning: findfont: Font family ['sans-serif'] not found. Falling back to DejaVu Sans\n",
      "  (prop.get_family(), self.defaultFamily[fontext]))\n"
     ]
    },
    {
     "data": {
      "image/png": "[encoded data removed]",
      "text/plain": [
       "<matplotlib.figure.Figure at 0x7f17679cd400>"
      ]
     },
     "metadata": {},
     "output_type": "display_data"
    }
   ],
   "source": [
    "plt.plot(history.history['loss'])\n",
    "plt.plot(history.history['val_loss'])\n",
    "plt.title('model loss')\n",
    "plt.ylabel('loss')\n",
    "plt.xlabel('epoch')\n",
    "plt.legend(['train', 'test'], loc='upper left')\n",
    "plt.show()"
   ]
  },
  {
   "cell_type": "code",
   "execution_count": 56,
   "metadata": {},
   "outputs": [
    {
     "name": "stdout",
     "output_type": "stream",
     "text": [
      "Train on 61199 samples, validate on 3589 samples\n",
      "Epoch 1/30\n",
      "61199/61199 [==============================] - 62s 1ms/step - loss: 0.7841 - categorical_accuracy: 0.7144 - val_loss: 1.0109 - val_categorical_accuracy: 0.6495\n",
      "Epoch 2/30\n",
      "61199/61199 [==============================] - 62s 1ms/step - loss: 0.7797 - categorical_accuracy: 0.7159 - val_loss: 1.0733 - val_categorical_accuracy: 0.6333\n",
      "Epoch 3/30\n",
      "61199/61199 [==============================] - 62s 1ms/step - loss: 0.7720 - categorical_accuracy: 0.7181 - val_loss: 1.0192 - val_categorical_accuracy: 0.6478\n",
      "Epoch 4/30\n",
      "61199/61199 [==============================] - 62s 1ms/step - loss: 0.7669 - categorical_accuracy: 0.7206 - val_loss: 1.0218 - val_categorical_accuracy: 0.6489\n",
      "Epoch 5/30\n",
      "61199/61199 [==============================] - 62s 1ms/step - loss: 0.7561 - categorical_accuracy: 0.7253 - val_loss: 1.0185 - val_categorical_accuracy: 0.6531\n",
      "Epoch 6/30\n",
      "61199/61199 [==============================] - 62s 1ms/step - loss: 0.7520 - categorical_accuracy: 0.7261 - val_loss: 1.0359 - val_categorical_accuracy: 0.6459\n",
      "Epoch 7/30\n",
      "61199/61199 [==============================] - 62s 1ms/step - loss: 0.7486 - categorical_accuracy: 0.7274 - val_loss: 1.0345 - val_categorical_accuracy: 0.6481\n",
      "Epoch 8/30\n",
      "61199/61199 [==============================] - 62s 1ms/step - loss: 0.7480 - categorical_accuracy: 0.7268 - val_loss: 1.0491 - val_categorical_accuracy: 0.6453\n",
      "Epoch 9/30\n",
      "61199/61199 [==============================] - 62s 1ms/step - loss: 0.7446 - categorical_accuracy: 0.7274 - val_loss: 1.0162 - val_categorical_accuracy: 0.6503\n",
      "Epoch 10/30\n",
      "61199/61199 [==============================] - 62s 1ms/step - loss: 0.7332 - categorical_accuracy: 0.7313 - val_loss: 1.0264 - val_categorical_accuracy: 0.6461\n",
      "Epoch 11/30\n",
      "61199/61199 [==============================] - 62s 1ms/step - loss: 0.7315 - categorical_accuracy: 0.7347 - val_loss: 1.0502 - val_categorical_accuracy: 0.6453\n",
      "Epoch 12/30\n",
      "61199/61199 [==============================] - 62s 1ms/step - loss: 0.7213 - categorical_accuracy: 0.7379 - val_loss: 1.0465 - val_categorical_accuracy: 0.6481\n",
      "Epoch 13/30\n",
      "61199/61199 [==============================] - 62s 1ms/step - loss: 0.7138 - categorical_accuracy: 0.7391 - val_loss: 1.0314 - val_categorical_accuracy: 0.6551\n",
      "Epoch 14/30\n",
      "61199/61199 [==============================] - 61s 1ms/step - loss: 0.7135 - categorical_accuracy: 0.7400 - val_loss: 1.0413 - val_categorical_accuracy: 0.6481\n",
      "Epoch 15/30\n",
      "61199/61199 [==============================] - 62s 1ms/step - loss: 0.7116 - categorical_accuracy: 0.7418 - val_loss: 1.0416 - val_categorical_accuracy: 0.6456\n",
      "Epoch 16/30\n",
      "61199/61199 [==============================] - 62s 1ms/step - loss: 0.7105 - categorical_accuracy: 0.7419 - val_loss: 1.0511 - val_categorical_accuracy: 0.6434\n",
      "Epoch 17/30\n",
      "61199/61199 [==============================] - 61s 1ms/step - loss: 0.7024 - categorical_accuracy: 0.7445 - val_loss: 1.0234 - val_categorical_accuracy: 0.6556\n",
      "Epoch 18/30\n",
      "61199/61199 [==============================] - 62s 1ms/step - loss: 0.7023 - categorical_accuracy: 0.7461 - val_loss: 1.0362 - val_categorical_accuracy: 0.6498\n",
      "Epoch 19/30\n",
      "61199/61199 [==============================] - 62s 1ms/step - loss: 0.6910 - categorical_accuracy: 0.7482 - val_loss: 1.0869 - val_categorical_accuracy: 0.6364\n",
      "Epoch 20/30\n",
      "61199/61199 [==============================] - 62s 1ms/step - loss: 0.6915 - categorical_accuracy: 0.7503 - val_loss: 1.0343 - val_categorical_accuracy: 0.6559\n",
      "Epoch 21/30\n",
      "61199/61199 [==============================] - 62s 1ms/step - loss: 0.6875 - categorical_accuracy: 0.7497 - val_loss: 1.0518 - val_categorical_accuracy: 0.6484\n",
      "Epoch 22/30\n",
      "61199/61199 [==============================] - 62s 1ms/step - loss: 0.6863 - categorical_accuracy: 0.7514 - val_loss: 1.0671 - val_categorical_accuracy: 0.6392\n",
      "Epoch 23/30\n",
      "61199/61199 [==============================] - 61s 1ms/step - loss: 0.6833 - categorical_accuracy: 0.7537 - val_loss: 1.0307 - val_categorical_accuracy: 0.6553\n",
      "Epoch 24/30\n",
      "61199/61199 [==============================] - 61s 1ms/step - loss: 0.6773 - categorical_accuracy: 0.7530 - val_loss: 1.0604 - val_categorical_accuracy: 0.6450\n",
      "Epoch 25/30\n",
      "61199/61199 [==============================] - 62s 1ms/step - loss: 0.6756 - categorical_accuracy: 0.7546 - val_loss: 1.0479 - val_categorical_accuracy: 0.6475\n",
      "Epoch 26/30\n",
      "61199/61199 [==============================] - 61s 1ms/step - loss: 0.6706 - categorical_accuracy: 0.7553 - val_loss: 1.0449 - val_categorical_accuracy: 0.6548\n",
      "Epoch 27/30\n",
      "61199/61199 [==============================] - 62s 1ms/step - loss: 0.6649 - categorical_accuracy: 0.7581 - val_loss: 1.0481 - val_categorical_accuracy: 0.6514\n",
      "Epoch 28/30\n",
      "61199/61199 [==============================] - 62s 1ms/step - loss: 0.6655 - categorical_accuracy: 0.7571 - val_loss: 1.0592 - val_categorical_accuracy: 0.6459\n",
      "Epoch 29/30\n",
      "61199/61199 [==============================] - 62s 1ms/step - loss: 0.6585 - categorical_accuracy: 0.7596 - val_loss: 1.0336 - val_categorical_accuracy: 0.6590\n",
      "Epoch 30/30\n",
      "61199/61199 [==============================] - 62s 1ms/step - loss: 0.6570 - categorical_accuracy: 0.7617 - val_loss: 1.0901 - val_categorical_accuracy: 0.6431\n"
     ]
    }
   ],
   "source": [
    "history2 = model.fit(X_train_bw, y_train, batch_size=128, epochs=30, validation_data=(X_val_bw, y_val))"
   ]
  },
  {
   "cell_type": "code",
   "execution_count": 57,
   "metadata": {},
   "outputs": [
    {
     "name": "stdout",
     "output_type": "stream",
     "text": [
      "3589/3589 [==============================] - 2s 453us/step\n"
     ]
    },
    {
     "data": {
      "text/plain": [
       "[1.0352102171979465, 0.6631373642015072]"
      ]
     },
     "execution_count": 57,
     "metadata": {},
     "output_type": "execute_result"
    }
   ],
   "source": [
    "model.evaluate(X_test_bw, y_test)"
   ]
  },
  {
   "cell_type": "code",
   "execution_count": 61,
   "metadata": {},
   "outputs": [],
   "source": [
    "model.save_weights('augmented-baseline.h5')"
   ]
  },
  {
   "cell_type": "code",
   "execution_count": 63,
   "metadata": {},
   "outputs": [],
   "source": [
    "model_json = model.to_json()\n",
    "\n",
    "with open(\"augmented-baseline.json\", \"w\") as json_file:\n",
    "    json_file.write(model_json)"
   ]
  },
  {
   "cell_type": "code",
   "execution_count": 48,
   "metadata": {},
   "outputs": [],
   "source": [
    "from sklearn.metrics import confusion_matrix"
   ]
  },
  {
   "cell_type": "code",
   "execution_count": 58,
   "metadata": {},
   "outputs": [],
   "source": [
    "y = pd.DataFrame(np.argmax(y_test, axis = 1), columns=['true'])"
   ]
  },
  {
   "cell_type": "code",
   "execution_count": 59,
   "metadata": {},
   "outputs": [],
   "source": [
    "y['pred'] = model.predict_classes(X_test_bw)\n",
    "y['true'] = y['true'].map(mapping)\n",
    "y['pred'] = y['pred'].map(mapping)"
   ]
  },
  {
   "cell_type": "code",
   "execution_count": 51,
   "metadata": {},
   "outputs": [],
   "source": [
    "import itertools\n",
    "\n",
    "def plot_confusion_matrix(cm, classes,\n",
    "                          normalize=False,\n",
    "                          title='Confusion matrix',\n",
    "                          cmap=plt.cm.Blues):\n",
    "    \"\"\"\n",
    "    This function prints and plots the confusion matrix.\n",
    "    Normalization can be applied by setting `normalize=True`.\n",
    "    \"\"\"\n",
    "    if normalize:\n",
    "        cm = cm.astype('float') / cm.sum(axis=1)[:, np.newaxis]\n",
    "\n",
    "    plt.imshow(cm, interpolation='nearest', cmap=cmap)\n",
    "    plt.title(title, fontdict = {'fontsize': 20})\n",
    "    plt.colorbar(fraction=0.046, pad=0.04)\n",
    "    tick_marks = np.arange(len(classes))\n",
    "    plt.xticks(tick_marks, classes, rotation=45)\n",
    "    plt.yticks(tick_marks, classes)\n",
    "\n",
    "    fmt = '.2f' if normalize else 'd'\n",
    "    thresh = cm.max() / 2.\n",
    "    for i, j in itertools.product(range(cm.shape[0]), range(cm.shape[1])):\n",
    "        plt.text(j, i, format(cm[i, j], fmt),\n",
    "                 horizontalalignment=\"center\",\n",
    "                 color=\"white\" if cm[i, j] > thresh else \"black\")\n",
    "\n",
    "    plt.ylabel('True label')\n",
    "    plt.xlabel('Predicted label')\n",
    "    plt.tight_layout()"
   ]
  },
  {
   "cell_type": "code",
   "execution_count": 52,
   "metadata": {},
   "outputs": [
    {
     "name": "stderr",
     "output_type": "stream",
     "text": [
      "/usr/local/envs/py3env/lib/python3.5/site-packages/matplotlib/font_manager.py:1320: UserWarning: findfont: Font family ['sans-serif'] not found. Falling back to DejaVu Sans\n",
      "  (prop.get_family(), self.defaultFamily[fontext]))\n"
     ]
    },
    {
     "data": {
      "image/png": "[encoded data removed]",
      "text/plain": [
       "<matplotlib.figure.Figure at 0x7f1767c916d8>"
      ]
     },
     "metadata": {},
     "output_type": "display_data"
    }
   ],
   "source": [
    "cnf_matrix = confusion_matrix(y['true'], y['pred'],\n",
    "                              labels=['Angry', 'Disgust', 'Fear', 'Happy', 'Sad', 'Surprise', 'Neutral'])\n",
    "\n",
    "np.set_printoptions(precision=2)\n",
    "\n",
    "\n",
    "plt.figure(figsize=(9, 9))\n",
    "plot_confusion_matrix(cnf_matrix, \n",
    "                      classes=['Angry', 'Disgust', 'Fear', 'Happy', 'Sad', 'Surprise', 'Neutral'],\n",
    "                      title='Confusion matrix, without normalization', cmap = 'Purples')"
   ]
  },
  {
   "cell_type": "code",
   "execution_count": 60,
   "metadata": {},
   "outputs": [
    {
     "name": "stderr",
     "output_type": "stream",
     "text": [
      "/usr/local/envs/py3env/lib/python3.5/site-packages/matplotlib/font_manager.py:1320: UserWarning: findfont: Font family ['sans-serif'] not found. Falling back to DejaVu Sans\n",
      "  (prop.get_family(), self.defaultFamily[fontext]))\n"
     ]
    },
    {
     "data": {
      "image/png": "[encoded data removed]",
      "text/plain": [
       "<matplotlib.figure.Figure at 0x7f1767940f98>"
      ]
     },
     "metadata": {},
     "output_type": "display_data"
    }
   ],
   "source": [
    "plt.figure(figsize=(9, 9))\n",
    "plot_confusion_matrix(cnf_matrix, \n",
    "                      classes=['Angry', 'Disgust', 'Fear', 'Happy', 'Sad', 'Surprise', 'Neutral'],\n",
    "                      normalize=True,\n",
    "                      title='', cmap = 'Purples')"
   ]
  }
 ],
 "metadata": {
  "kernelspec": {
   "display_name": "Python 3",
   "language": "python",
   "name": "python3"
  },
  "language_info": {
   "codemirror_mode": {
    "name": "ipython",
    "version": 3
   },
   "file_extension": ".py",
   "mimetype": "text/x-python",
   "name": "python",
   "nbconvert_exporter": "python",
   "pygments_lexer": "ipython3",
   "version": "3.6.7"
  }
 },
 "nbformat": 4,
 "nbformat_minor": 2
}
