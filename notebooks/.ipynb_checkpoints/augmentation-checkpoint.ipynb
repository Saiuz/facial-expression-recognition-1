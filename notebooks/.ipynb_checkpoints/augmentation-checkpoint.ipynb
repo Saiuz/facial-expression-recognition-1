{
 "cells": [
  {
   "cell_type": "code",
   "execution_count": 119,
   "metadata": {},
   "outputs": [],
   "source": [
    "import pandas as pd\n",
    "import numpy as np\n",
    "\n",
    "from scipy.ndimage import rotate\n",
    "from scipy.ndimage import gaussian_filter\n",
    "\n",
    "import matplotlib.pyplot as plt\n",
    "\n",
    "%matplotlib inline"
   ]
  },
  {
   "cell_type": "code",
   "execution_count": 2,
   "metadata": {},
   "outputs": [],
   "source": [
    "df = pd.read_csv('../data/emotions/emotions.csv')"
   ]
  },
  {
   "cell_type": "code",
   "execution_count": 4,
   "metadata": {},
   "outputs": [],
   "source": [
    "df['category'] = df['category'].str.strip()"
   ]
  },
  {
   "cell_type": "code",
   "execution_count": 27,
   "metadata": {},
   "outputs": [],
   "source": [
    "del df['Unnamed: 0']"
   ]
  },
  {
   "cell_type": "code",
   "execution_count": 32,
   "metadata": {},
   "outputs": [],
   "source": [
    "mapping = {\n",
    "    0: 'Angry', \n",
    "    1: 'Disgust', \n",
    "    2: 'Fear', \n",
    "    3: 'Happy', \n",
    "    4: 'Sad', \n",
    "    5: 'Surprise', \n",
    "    6: 'Neutral'   \n",
    "}"
   ]
  },
  {
   "cell_type": "code",
   "execution_count": 34,
   "metadata": {},
   "outputs": [],
   "source": [
    "df['y'] = df['y'].map(mapping)"
   ]
  },
  {
   "cell_type": "code",
   "execution_count": 71,
   "metadata": {},
   "outputs": [
    {
     "data": {
      "text/html": [
       "<div>\n",
       "<style scoped>\n",
       "    .dataframe tbody tr th:only-of-type {\n",
       "        vertical-align: middle;\n",
       "    }\n",
       "\n",
       "    .dataframe tbody tr th {\n",
       "        vertical-align: top;\n",
       "    }\n",
       "\n",
       "    .dataframe thead th {\n",
       "        text-align: right;\n",
       "    }\n",
       "</style>\n",
       "<table border=\"1\" class=\"dataframe\">\n",
       "  <thead>\n",
       "    <tr style=\"text-align: right;\">\n",
       "      <th></th>\n",
       "      <th>y</th>\n",
       "      <th>0</th>\n",
       "      <th>1</th>\n",
       "      <th>2</th>\n",
       "      <th>3</th>\n",
       "      <th>4</th>\n",
       "      <th>5</th>\n",
       "      <th>6</th>\n",
       "      <th>7</th>\n",
       "      <th>8</th>\n",
       "      <th>...</th>\n",
       "      <th>2295</th>\n",
       "      <th>2296</th>\n",
       "      <th>2297</th>\n",
       "      <th>2298</th>\n",
       "      <th>2299</th>\n",
       "      <th>2300</th>\n",
       "      <th>2301</th>\n",
       "      <th>2302</th>\n",
       "      <th>2303</th>\n",
       "      <th>category</th>\n",
       "    </tr>\n",
       "  </thead>\n",
       "  <tbody>\n",
       "    <tr>\n",
       "      <th>299</th>\n",
       "      <td>Disgust</td>\n",
       "      <td>126</td>\n",
       "      <td>126</td>\n",
       "      <td>129</td>\n",
       "      <td>120</td>\n",
       "      <td>110</td>\n",
       "      <td>168</td>\n",
       "      <td>174</td>\n",
       "      <td>172</td>\n",
       "      <td>173</td>\n",
       "      <td>...</td>\n",
       "      <td>130</td>\n",
       "      <td>106</td>\n",
       "      <td>85</td>\n",
       "      <td>77</td>\n",
       "      <td>71</td>\n",
       "      <td>60</td>\n",
       "      <td>107</td>\n",
       "      <td>199</td>\n",
       "      <td>208</td>\n",
       "      <td>Training</td>\n",
       "    </tr>\n",
       "    <tr>\n",
       "      <th>388</th>\n",
       "      <td>Disgust</td>\n",
       "      <td>89</td>\n",
       "      <td>55</td>\n",
       "      <td>24</td>\n",
       "      <td>40</td>\n",
       "      <td>43</td>\n",
       "      <td>48</td>\n",
       "      <td>53</td>\n",
       "      <td>55</td>\n",
       "      <td>59</td>\n",
       "      <td>...</td>\n",
       "      <td>99</td>\n",
       "      <td>110</td>\n",
       "      <td>122</td>\n",
       "      <td>100</td>\n",
       "      <td>68</td>\n",
       "      <td>35</td>\n",
       "      <td>23</td>\n",
       "      <td>23</td>\n",
       "      <td>18</td>\n",
       "      <td>Training</td>\n",
       "    </tr>\n",
       "    <tr>\n",
       "      <th>416</th>\n",
       "      <td>Disgust</td>\n",
       "      <td>204</td>\n",
       "      <td>195</td>\n",
       "      <td>181</td>\n",
       "      <td>131</td>\n",
       "      <td>50</td>\n",
       "      <td>50</td>\n",
       "      <td>57</td>\n",
       "      <td>56</td>\n",
       "      <td>66</td>\n",
       "      <td>...</td>\n",
       "      <td>118</td>\n",
       "      <td>114</td>\n",
       "      <td>111</td>\n",
       "      <td>120</td>\n",
       "      <td>139</td>\n",
       "      <td>143</td>\n",
       "      <td>150</td>\n",
       "      <td>156</td>\n",
       "      <td>161</td>\n",
       "      <td>Training</td>\n",
       "    </tr>\n",
       "    <tr>\n",
       "      <th>473</th>\n",
       "      <td>Disgust</td>\n",
       "      <td>14</td>\n",
       "      <td>11</td>\n",
       "      <td>13</td>\n",
       "      <td>12</td>\n",
       "      <td>41</td>\n",
       "      <td>95</td>\n",
       "      <td>113</td>\n",
       "      <td>112</td>\n",
       "      <td>111</td>\n",
       "      <td>...</td>\n",
       "      <td>70</td>\n",
       "      <td>52</td>\n",
       "      <td>31</td>\n",
       "      <td>23</td>\n",
       "      <td>35</td>\n",
       "      <td>45</td>\n",
       "      <td>45</td>\n",
       "      <td>46</td>\n",
       "      <td>48</td>\n",
       "      <td>Training</td>\n",
       "    </tr>\n",
       "    <tr>\n",
       "      <th>533</th>\n",
       "      <td>Disgust</td>\n",
       "      <td>18</td>\n",
       "      <td>25</td>\n",
       "      <td>49</td>\n",
       "      <td>75</td>\n",
       "      <td>89</td>\n",
       "      <td>97</td>\n",
       "      <td>100</td>\n",
       "      <td>100</td>\n",
       "      <td>101</td>\n",
       "      <td>...</td>\n",
       "      <td>164</td>\n",
       "      <td>165</td>\n",
       "      <td>167</td>\n",
       "      <td>168</td>\n",
       "      <td>168</td>\n",
       "      <td>163</td>\n",
       "      <td>158</td>\n",
       "      <td>84</td>\n",
       "      <td>14</td>\n",
       "      <td>Training</td>\n",
       "    </tr>\n",
       "  </tbody>\n",
       "</table>\n",
       "<p>5 rows × 2306 columns</p>\n",
       "</div>"
      ],
      "text/plain": [
       "           y    0    1    2    3    4    5    6    7    8    ...     2295  \\\n",
       "299  Disgust  126  126  129  120  110  168  174  172  173    ...      130   \n",
       "388  Disgust   89   55   24   40   43   48   53   55   59    ...       99   \n",
       "416  Disgust  204  195  181  131   50   50   57   56   66    ...      118   \n",
       "473  Disgust   14   11   13   12   41   95  113  112  111    ...       70   \n",
       "533  Disgust   18   25   49   75   89   97  100  100  101    ...      164   \n",
       "\n",
       "     2296  2297  2298  2299  2300  2301  2302  2303  category  \n",
       "299   106    85    77    71    60   107   199   208  Training  \n",
       "388   110   122   100    68    35    23    23    18  Training  \n",
       "416   114   111   120   139   143   150   156   161  Training  \n",
       "473    52    31    23    35    45    45    46    48  Training  \n",
       "533   165   167   168   168   163   158    84    14  Training  \n",
       "\n",
       "[5 rows x 2306 columns]"
      ]
     },
     "execution_count": 71,
     "metadata": {},
     "output_type": "execute_result"
    }
   ],
   "source": [
    "df.loc[df['y'].isin(['Disgust']), ].head()"
   ]
  },
  {
   "cell_type": "code",
   "execution_count": 41,
   "metadata": {},
   "outputs": [],
   "source": [
    "labels = disgust['y']\n",
    "images = disgust.iloc[:, 1:2305]\n",
    "categories = disgust['category']"
   ]
  },
  {
   "cell_type": "code",
   "execution_count": 66,
   "metadata": {},
   "outputs": [
    {
     "data": {
      "text/html": [
       "<div>\n",
       "<style scoped>\n",
       "    .dataframe tbody tr th:only-of-type {\n",
       "        vertical-align: middle;\n",
       "    }\n",
       "\n",
       "    .dataframe tbody tr th {\n",
       "        vertical-align: top;\n",
       "    }\n",
       "\n",
       "    .dataframe thead th {\n",
       "        text-align: right;\n",
       "    }\n",
       "</style>\n",
       "<table border=\"1\" class=\"dataframe\">\n",
       "  <thead>\n",
       "    <tr style=\"text-align: right;\">\n",
       "      <th></th>\n",
       "      <th>y</th>\n",
       "      <th>0</th>\n",
       "      <th>1</th>\n",
       "      <th>2</th>\n",
       "      <th>3</th>\n",
       "      <th>4</th>\n",
       "      <th>5</th>\n",
       "      <th>6</th>\n",
       "      <th>7</th>\n",
       "      <th>8</th>\n",
       "      <th>...</th>\n",
       "      <th>2295</th>\n",
       "      <th>2296</th>\n",
       "      <th>2297</th>\n",
       "      <th>2298</th>\n",
       "      <th>2299</th>\n",
       "      <th>2300</th>\n",
       "      <th>2301</th>\n",
       "      <th>2302</th>\n",
       "      <th>2303</th>\n",
       "      <th>category</th>\n",
       "    </tr>\n",
       "  </thead>\n",
       "  <tbody>\n",
       "    <tr>\n",
       "      <th>299</th>\n",
       "      <td>Disgust</td>\n",
       "      <td>126</td>\n",
       "      <td>126</td>\n",
       "      <td>129</td>\n",
       "      <td>120</td>\n",
       "      <td>110</td>\n",
       "      <td>168</td>\n",
       "      <td>174</td>\n",
       "      <td>172</td>\n",
       "      <td>173</td>\n",
       "      <td>...</td>\n",
       "      <td>130</td>\n",
       "      <td>106</td>\n",
       "      <td>85</td>\n",
       "      <td>77</td>\n",
       "      <td>71</td>\n",
       "      <td>60</td>\n",
       "      <td>107</td>\n",
       "      <td>199</td>\n",
       "      <td>208</td>\n",
       "      <td>Training</td>\n",
       "    </tr>\n",
       "    <tr>\n",
       "      <th>388</th>\n",
       "      <td>Disgust</td>\n",
       "      <td>89</td>\n",
       "      <td>55</td>\n",
       "      <td>24</td>\n",
       "      <td>40</td>\n",
       "      <td>43</td>\n",
       "      <td>48</td>\n",
       "      <td>53</td>\n",
       "      <td>55</td>\n",
       "      <td>59</td>\n",
       "      <td>...</td>\n",
       "      <td>99</td>\n",
       "      <td>110</td>\n",
       "      <td>122</td>\n",
       "      <td>100</td>\n",
       "      <td>68</td>\n",
       "      <td>35</td>\n",
       "      <td>23</td>\n",
       "      <td>23</td>\n",
       "      <td>18</td>\n",
       "      <td>Training</td>\n",
       "    </tr>\n",
       "    <tr>\n",
       "      <th>416</th>\n",
       "      <td>Disgust</td>\n",
       "      <td>204</td>\n",
       "      <td>195</td>\n",
       "      <td>181</td>\n",
       "      <td>131</td>\n",
       "      <td>50</td>\n",
       "      <td>50</td>\n",
       "      <td>57</td>\n",
       "      <td>56</td>\n",
       "      <td>66</td>\n",
       "      <td>...</td>\n",
       "      <td>118</td>\n",
       "      <td>114</td>\n",
       "      <td>111</td>\n",
       "      <td>120</td>\n",
       "      <td>139</td>\n",
       "      <td>143</td>\n",
       "      <td>150</td>\n",
       "      <td>156</td>\n",
       "      <td>161</td>\n",
       "      <td>Training</td>\n",
       "    </tr>\n",
       "    <tr>\n",
       "      <th>473</th>\n",
       "      <td>Disgust</td>\n",
       "      <td>14</td>\n",
       "      <td>11</td>\n",
       "      <td>13</td>\n",
       "      <td>12</td>\n",
       "      <td>41</td>\n",
       "      <td>95</td>\n",
       "      <td>113</td>\n",
       "      <td>112</td>\n",
       "      <td>111</td>\n",
       "      <td>...</td>\n",
       "      <td>70</td>\n",
       "      <td>52</td>\n",
       "      <td>31</td>\n",
       "      <td>23</td>\n",
       "      <td>35</td>\n",
       "      <td>45</td>\n",
       "      <td>45</td>\n",
       "      <td>46</td>\n",
       "      <td>48</td>\n",
       "      <td>Training</td>\n",
       "    </tr>\n",
       "    <tr>\n",
       "      <th>533</th>\n",
       "      <td>Disgust</td>\n",
       "      <td>18</td>\n",
       "      <td>25</td>\n",
       "      <td>49</td>\n",
       "      <td>75</td>\n",
       "      <td>89</td>\n",
       "      <td>97</td>\n",
       "      <td>100</td>\n",
       "      <td>100</td>\n",
       "      <td>101</td>\n",
       "      <td>...</td>\n",
       "      <td>164</td>\n",
       "      <td>165</td>\n",
       "      <td>167</td>\n",
       "      <td>168</td>\n",
       "      <td>168</td>\n",
       "      <td>163</td>\n",
       "      <td>158</td>\n",
       "      <td>84</td>\n",
       "      <td>14</td>\n",
       "      <td>Training</td>\n",
       "    </tr>\n",
       "  </tbody>\n",
       "</table>\n",
       "<p>5 rows × 2306 columns</p>\n",
       "</div>"
      ],
      "text/plain": [
       "           y    0    1    2    3    4    5    6    7    8    ...     2295  \\\n",
       "299  Disgust  126  126  129  120  110  168  174  172  173    ...      130   \n",
       "388  Disgust   89   55   24   40   43   48   53   55   59    ...       99   \n",
       "416  Disgust  204  195  181  131   50   50   57   56   66    ...      118   \n",
       "473  Disgust   14   11   13   12   41   95  113  112  111    ...       70   \n",
       "533  Disgust   18   25   49   75   89   97  100  100  101    ...      164   \n",
       "\n",
       "     2296  2297  2298  2299  2300  2301  2302  2303  category  \n",
       "299   106    85    77    71    60   107   199   208  Training  \n",
       "388   110   122   100    68    35    23    23    18  Training  \n",
       "416   114   111   120   139   143   150   156   161  Training  \n",
       "473    52    31    23    35    45    45    46    48  Training  \n",
       "533   165   167   168   168   163   158    84    14  Training  \n",
       "\n",
       "[5 rows x 2306 columns]"
      ]
     },
     "execution_count": 66,
     "metadata": {},
     "output_type": "execute_result"
    }
   ],
   "source": [
    "disgust.head(5)"
   ]
  },
  {
   "cell_type": "code",
   "execution_count": 43,
   "metadata": {},
   "outputs": [
    {
     "data": {
      "text/plain": [
       "299    Disgust\n",
       "388    Disgust\n",
       "416    Disgust\n",
       "473    Disgust\n",
       "533    Disgust\n",
       "Name: y, dtype: object"
      ]
     },
     "execution_count": 43,
     "metadata": {},
     "output_type": "execute_result"
    }
   ],
   "source": [
    "labels.head(5)"
   ]
  },
  {
   "cell_type": "code",
   "execution_count": 46,
   "metadata": {},
   "outputs": [],
   "source": [
    "def flip_horizontally(image):\n",
    "    return np.flip(image, axis = 1)"
   ]
  },
  {
   "cell_type": "code",
   "execution_count": 82,
   "metadata": {},
   "outputs": [],
   "source": [
    "def add_noise(image):\n",
    "    return image + np.random.poisson(image)"
   ]
  },
  {
   "cell_type": "code",
   "execution_count": 116,
   "metadata": {},
   "outputs": [],
   "source": [
    "def rotate_right(image, angle = -20):\n",
    "    return rotate(image, angle, mode='reflect', reshape=False)"
   ]
  },
  {
   "cell_type": "code",
   "execution_count": 115,
   "metadata": {},
   "outputs": [],
   "source": [
    "def rotate_left(image, angle = 20):\n",
    "    return rotate(image, angle, mode='reflect', reshape=False)"
   ]
  },
  {
   "cell_type": "code",
   "execution_count": 126,
   "metadata": {},
   "outputs": [],
   "source": [
    "def add_blur(image):\n",
    "    return gaussian_filter(image, sigma=1)"
   ]
  },
  {
   "cell_type": "code",
   "execution_count": 47,
   "metadata": {},
   "outputs": [
    {
     "data": {
      "text/plain": [
       "Index(['y', '0', '1', '2', '3', '4', '5', '6', '7', '8',\n",
       "       ...\n",
       "       '2295', '2296', '2297', '2298', '2299', '2300', '2301', '2302', '2303',\n",
       "       'category'],\n",
       "      dtype='object', length=2306)"
      ]
     },
     "execution_count": 47,
     "metadata": {},
     "output_type": "execute_result"
    }
   ],
   "source": [
    "df.columns"
   ]
  },
  {
   "cell_type": "code",
   "execution_count": 48,
   "metadata": {},
   "outputs": [],
   "source": [
    "augmented = pd.DataFrame(columns=df.columns)"
   ]
  },
  {
   "cell_type": "code",
   "execution_count": 60,
   "metadata": {},
   "outputs": [],
   "source": [
    "augmented.loc[0] = [df.iloc[0, 0]] + flip_horizontally(np.array(df.iloc[0, 1:2305]).reshape((48, 48))).flatten().tolist() + [df.iloc[0, 2305]]"
   ]
  },
  {
   "cell_type": "code",
   "execution_count": 61,
   "metadata": {},
   "outputs": [
    {
     "data": {
      "text/html": [
       "<div>\n",
       "<style scoped>\n",
       "    .dataframe tbody tr th:only-of-type {\n",
       "        vertical-align: middle;\n",
       "    }\n",
       "\n",
       "    .dataframe tbody tr th {\n",
       "        vertical-align: top;\n",
       "    }\n",
       "\n",
       "    .dataframe thead th {\n",
       "        text-align: right;\n",
       "    }\n",
       "</style>\n",
       "<table border=\"1\" class=\"dataframe\">\n",
       "  <thead>\n",
       "    <tr style=\"text-align: right;\">\n",
       "      <th></th>\n",
       "      <th>y</th>\n",
       "      <th>0</th>\n",
       "      <th>1</th>\n",
       "      <th>2</th>\n",
       "      <th>3</th>\n",
       "      <th>4</th>\n",
       "      <th>5</th>\n",
       "      <th>6</th>\n",
       "      <th>7</th>\n",
       "      <th>8</th>\n",
       "      <th>...</th>\n",
       "      <th>2295</th>\n",
       "      <th>2296</th>\n",
       "      <th>2297</th>\n",
       "      <th>2298</th>\n",
       "      <th>2299</th>\n",
       "      <th>2300</th>\n",
       "      <th>2301</th>\n",
       "      <th>2302</th>\n",
       "      <th>2303</th>\n",
       "      <th>category</th>\n",
       "    </tr>\n",
       "  </thead>\n",
       "  <tbody>\n",
       "    <tr>\n",
       "      <th>0</th>\n",
       "      <td>Angry</td>\n",
       "      <td>41</td>\n",
       "      <td>43</td>\n",
       "      <td>52</td>\n",
       "      <td>61</td>\n",
       "      <td>57</td>\n",
       "      <td>56</td>\n",
       "      <td>62</td>\n",
       "      <td>66</td>\n",
       "      <td>79</td>\n",
       "      <td>...</td>\n",
       "      <td>20</td>\n",
       "      <td>37</td>\n",
       "      <td>64</td>\n",
       "      <td>81</td>\n",
       "      <td>87</td>\n",
       "      <td>87</td>\n",
       "      <td>84</td>\n",
       "      <td>72</td>\n",
       "      <td>77</td>\n",
       "      <td>Training</td>\n",
       "    </tr>\n",
       "  </tbody>\n",
       "</table>\n",
       "<p>1 rows × 2306 columns</p>\n",
       "</div>"
      ],
      "text/plain": [
       "       y   0   1   2   3   4   5   6   7   8    ...    2295 2296 2297 2298  \\\n",
       "0  Angry  41  43  52  61  57  56  62  66  79    ...      20   37   64   81   \n",
       "\n",
       "  2299 2300 2301 2302 2303  category  \n",
       "0   87   87   84   72   77  Training  \n",
       "\n",
       "[1 rows x 2306 columns]"
      ]
     },
     "execution_count": 61,
     "metadata": {},
     "output_type": "execute_result"
    }
   ],
   "source": [
    "augmented"
   ]
  },
  {
   "cell_type": "code",
   "execution_count": 62,
   "metadata": {},
   "outputs": [],
   "source": [
    "for i, index in enumerate(labels.index.values):\n",
    "    \n",
    "    augmented.loc[i] = [df.iloc[index, 0]] + flip_horizontally(np.array(df.iloc[index, 1:2305]).reshape((48, 48))).flatten().tolist() + [df.iloc[index, 2305]]\n",
    "    \n",
    "    \n",
    "    \n",
    "    \n",
    "    \n",
    "    "
   ]
  },
  {
   "cell_type": "code",
   "execution_count": 29,
   "metadata": {},
   "outputs": [],
   "source": [
    "X = np.array(df.iloc[:, 1:2305])"
   ]
  },
  {
   "cell_type": "code",
   "execution_count": 79,
   "metadata": {},
   "outputs": [
    {
     "data": {
      "text/plain": [
       "<matplotlib.image.AxesImage at 0x7f0d7aba88d0>"
      ]
     },
     "execution_count": 79,
     "metadata": {},
     "output_type": "execute_result"
    },
    {
     "data": {
      "image/png": "[encoded data removed]",
      "text/plain": [
       "<matplotlib.figure.Figure at 0x7f0d7abbac88>"
      ]
     },
     "metadata": {},
     "output_type": "display_data"
    }
   ],
   "source": [
    "plt.imshow(X[0].reshape((48, 48)), cmap = 'gray')"
   ]
  },
  {
   "cell_type": "code",
   "execution_count": 78,
   "metadata": {},
   "outputs": [
    {
     "data": {
      "text/plain": [
       "<matplotlib.image.AxesImage at 0x7f0d7abc8f98>"
      ]
     },
     "execution_count": 78,
     "metadata": {},
     "output_type": "execute_result"
    },
    {
     "data": {
      "image/png": "[encoded data removed]",
      "text/plain": [
       "<matplotlib.figure.Figure at 0x7f0d7ac16978>"
      ]
     },
     "metadata": {},
     "output_type": "display_data"
    }
   ],
   "source": [
    "plt.imshow(flip_horizontally(X[0].reshape(48, 48)), cmap = 'gray')"
   ]
  },
  {
   "cell_type": "code",
   "execution_count": 83,
   "metadata": {},
   "outputs": [
    {
     "data": {
      "text/plain": [
       "<matplotlib.image.AxesImage at 0x7f0d7aad3ba8>"
      ]
     },
     "execution_count": 83,
     "metadata": {},
     "output_type": "execute_result"
    },
    {
     "data": {
      "image/png": "[encoded data removed]",
      "text/plain": [
       "<matplotlib.figure.Figure at 0x7f0d7ab5b780>"
      ]
     },
     "metadata": {},
     "output_type": "display_data"
    }
   ],
   "source": [
    "plt.imshow(add_noise(X[0].reshape(48, 48)), cmap = 'gray')"
   ]
  },
  {
   "cell_type": "code",
   "execution_count": 117,
   "metadata": {},
   "outputs": [
    {
     "data": {
      "text/plain": [
       "<matplotlib.image.AxesImage at 0x7f0d73139ef0>"
      ]
     },
     "execution_count": 117,
     "metadata": {},
     "output_type": "execute_result"
    },
    {
     "data": {
      "image/png": "[encoded data removed]",
      "text/plain": [
       "<matplotlib.figure.Figure at 0x7f0d731cea58>"
      ]
     },
     "metadata": {},
     "output_type": "display_data"
    }
   ],
   "source": [
    "plt.imshow(rotate_right(X[0].reshape(48, 48)), cmap = 'gray')"
   ]
  },
  {
   "cell_type": "code",
   "execution_count": 118,
   "metadata": {},
   "outputs": [
    {
     "data": {
      "text/plain": [
       "<matplotlib.image.AxesImage at 0x7f0d730925c0>"
      ]
     },
     "execution_count": 118,
     "metadata": {},
     "output_type": "execute_result"
    },
    {
     "data": {
      "image/png": "[encoded data removed]",
      "text/plain": [
       "<matplotlib.figure.Figure at 0x7f0d7312e748>"
      ]
     },
     "metadata": {},
     "output_type": "display_data"
    }
   ],
   "source": [
    "plt.imshow(rotate_left(X[0].reshape(48, 48)), cmap = 'gray')"
   ]
  },
  {
   "cell_type": "code",
   "execution_count": 127,
   "metadata": {},
   "outputs": [
    {
     "data": {
      "text/plain": [
       "<matplotlib.image.AxesImage at 0x7f0d72b72438>"
      ]
     },
     "execution_count": 127,
     "metadata": {},
     "output_type": "execute_result"
    },
    {
     "data": {
      "image/png": "[encoded data removed]",
      "text/plain": [
       "<matplotlib.figure.Figure at 0x7f0d72b06e48>"
      ]
     },
     "metadata": {},
     "output_type": "display_data"
    }
   ],
   "source": [
    "plt.imshow(add_blur(X[0].reshape(48, 48)), cmap = 'gray')"
   ]
  },
  {
   "cell_type": "code",
   "execution_count": 137,
   "metadata": {},
   "outputs": [],
   "source": [
    "def augment(df: pd.DataFrame, classes_to_augment: list, augmentations: list) -> pd.DataFrame:\n",
    "    \n",
    "    indices = df.loc[df['y'].isin(classes_to_augment),].index.values\n",
    "    \n",
    "    data = pd.DataFrame(columns=df.columns)\n",
    "    \n",
    "    temp = []\n",
    "\n",
    "    if 'flip' in augmentations:\n",
    "        for i, index in enumerate(indices):\n",
    "                temp.append([df.iloc[index, 0]] + flip_horizontally(np.array(df.iloc[index, 1:2305]).reshape((48, 48))).flatten().tolist() + [df.iloc[index, 2305]])\n",
    "    \n",
    "    if 'noise' in augmentations:\n",
    "        for i, index in enumerate(indices):\n",
    "                temp.append([df.iloc[index, 0]] + add_noise(np.array(df.iloc[index, 1:2305]).reshape((48, 48))).flatten().tolist() + [df.iloc[index, 2305]])\n",
    "                \n",
    "    if 'rotate_right' in augmentations:\n",
    "        for i, index in enumerate(indices):\n",
    "                temp.append([df.iloc[index, 0]] + rotate_right(np.array(df.iloc[index, 1:2305]).reshape((48, 48))).flatten().tolist() + [df.iloc[index, 2305]])\n",
    "                \n",
    "    if 'rotate_left' in augmentations:\n",
    "        for i, index in enumerate(indices):\n",
    "                temp.append([df.iloc[index, 0]] + rotate_left(np.array(df.iloc[index, 1:2305]).reshape((48, 48))).flatten().tolist() + [df.iloc[index, 2305]])\n",
    "             \n",
    "    if 'blur' in augmentations:\n",
    "        for i, index in enumerate(indices):\n",
    "                temp.append([df.iloc[index, 0]] + add_blur(np.array(df.iloc[index, 1:2305]).reshape((48, 48))).flatten().tolist() + [df.iloc[index, 2305]])\n",
    "          \n",
    "    data = pd.DataFrame(temp, columns=df.columns)\n",
    "    \n",
    "    return data"
   ]
  },
  {
   "cell_type": "code",
   "execution_count": 133,
   "metadata": {},
   "outputs": [],
   "source": [
    "train_set = df[df['category'] == 'Training']"
   ]
  },
  {
   "cell_type": "code",
   "execution_count": null,
   "metadata": {},
   "outputs": [],
   "source": [
    "augment(train_set, ['Disgust'], ['flip', 'rotate_right', 'rotate_left', 'blur'])"
   ]
  }
 ],
 "metadata": {
  "kernelspec": {
   "display_name": "Python 3",
   "language": "python",
   "name": "python3"
  },
  "language_info": {
   "codemirror_mode": {
    "name": "ipython",
    "version": 3
   },
   "file_extension": ".py",
   "mimetype": "text/x-python",
   "name": "python",
   "nbconvert_exporter": "python",
   "pygments_lexer": "ipython3",
   "version": "3.6.7"
  }
 },
 "nbformat": 4,
 "nbformat_minor": 2
}
