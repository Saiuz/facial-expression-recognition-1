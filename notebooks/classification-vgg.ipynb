{
 "cells": [
  {
   "cell_type": "code",
   "execution_count": 1,
   "metadata": {},
   "outputs": [
    {
     "name": "stderr",
     "output_type": "stream",
     "text": [
      "Using TensorFlow backend.\n"
     ]
    }
   ],
   "source": [
    "import pandas as pd\n",
    "import numpy as np\n",
    "import keras\n",
    "import matplotlib.pyplot as plt\n",
    "\n",
    "%matplotlib inline"
   ]
  },
  {
   "cell_type": "markdown",
   "metadata": {},
   "source": [
    "### Helper functions"
   ]
  },
  {
   "cell_type": "code",
   "execution_count": 2,
   "metadata": {},
   "outputs": [],
   "source": [
    "def load_data(dataset: str, channels: int = 1):\n",
    "  \n",
    "    df = pd.read_csv(dataset)\n",
    "  \n",
    "    df['category'] = df['category'].str.strip()\n",
    "\n",
    "    train = df.loc[df.category == 'Training',:]\n",
    "    valid = df.loc[df.category == 'PublicTest',:]\n",
    "    test  = df.loc[df.category == 'PrivateTest',:]\n",
    "\n",
    "    del train['Unnamed: 0']\n",
    "    del valid['Unnamed: 0']\n",
    "    del test['Unnamed: 0']\n",
    "\n",
    "    X_train = np.array(train.iloc[:, 1:2305])\n",
    "    y_train = np.array(train.loc[:, ['y']])\n",
    "\n",
    "    X_val = np.array(valid.iloc[:, 1:2305])\n",
    "    y_val = np.array(valid.loc[:, ['y']])\n",
    "\n",
    "    X_test = np.array(test.iloc[:, 1:2305])\n",
    "    y_test = np.array(test.loc[:, ['y']])\n",
    "\n",
    "    del train\n",
    "    del valid\n",
    "    del test\n",
    "\n",
    "    y_train = keras.utils.to_categorical(y_train, 7)\n",
    "    y_val = keras.utils.to_categorical(y_val, 7)\n",
    "    y_test = keras.utils.to_categorical(y_test, 7)\n",
    "\n",
    "    X_train_r = X_train.reshape((len(X_train), 48, 48))\n",
    "    X_val_r   = X_val.reshape((len(X_val), 48, 48))\n",
    "    X_test_r   = X_test.reshape((len(X_test), 48, 48))\n",
    "\n",
    "    X_train_r = X_train_r / 255\n",
    "    X_val_r = X_val_r / 255\n",
    "    X_test_r = X_test_r / 255\n",
    "\n",
    "    if channels == 1:\n",
    "        X_train_bw = X_train_r.reshape((len(X_train_r), 48, 48, 1))\n",
    "        X_val_bw = X_val_r.reshape((len(X_val_r), 48, 48, 1))\n",
    "        X_test_bw = X_test_r.reshape((len(X_test_r), 48, 48, 1))\n",
    "        return (X_train_bw, X_val_bw, X_test_bw, y_train, y_val, y_test)\n",
    "    elif channels == 3:\n",
    "        X_train_rgb = np.stack((X_train_r,) * 3, axis = -1)\n",
    "        X_val_rgb = np.stack((X_val_r, ) * 3, axis = -1)\n",
    "        X_test_rgb = np.stack((X_test_r, ) * 3, axis = -1)\n",
    "        return (X_train_rgb, X_val_rgb, X_test_rgb, y_train, y_val, y_test)\n",
    "    else:\n",
    "        return None"
   ]
  },
  {
   "cell_type": "code",
   "execution_count": 3,
   "metadata": {},
   "outputs": [],
   "source": [
    "import itertools\n",
    "\n",
    "def plot_confusion_matrix(cm, classes,\n",
    "                          normalize=False,\n",
    "                          title='Confusion matrix',\n",
    "                          cmap=plt.cm.Blues):\n",
    "    \"\"\"\n",
    "    This function prints and plots the confusion matrix.\n",
    "    Normalization can be applied by setting `normalize=True`.\n",
    "    \"\"\"\n",
    "    if normalize:\n",
    "        cm = cm.astype('float') / cm.sum(axis=1)[:, np.newaxis]\n",
    "\n",
    "    plt.imshow(cm, interpolation='nearest', cmap=cmap)\n",
    "    plt.title(title, fontdict = {'fontsize': 20})\n",
    "    plt.colorbar(fraction=0.046, pad=0.04)\n",
    "    tick_marks = np.arange(len(classes))\n",
    "    plt.xticks(tick_marks, classes, rotation=45)\n",
    "    plt.yticks(tick_marks, classes)\n",
    "\n",
    "    fmt = '.2f' if normalize else 'd'\n",
    "    thresh = cm.max() / 2.\n",
    "    for i, j in itertools.product(range(cm.shape[0]), range(cm.shape[1])):\n",
    "        plt.text(j, i, format(cm[i, j], fmt),\n",
    "                 horizontalalignment=\"center\",\n",
    "                 color=\"white\" if cm[i, j] > thresh else \"black\")\n",
    "\n",
    "    plt.ylabel('True label')\n",
    "    plt.xlabel('Predicted label')\n",
    "    plt.tight_layout()"
   ]
  },
  {
   "cell_type": "code",
   "execution_count": 4,
   "metadata": {},
   "outputs": [],
   "source": [
    "mapping = {\n",
    "    0: 'Angry', \n",
    "    1: 'Disgust', \n",
    "    2: 'Fear', \n",
    "    3: 'Happy', \n",
    "    4: 'Sad', \n",
    "    5: 'Surprise', \n",
    "    6: 'Neutral'   \n",
    "}"
   ]
  },
  {
   "cell_type": "markdown",
   "metadata": {},
   "source": [
    "### Data preparation"
   ]
  },
  {
   "cell_type": "markdown",
   "metadata": {},
   "source": [
    "#### Reading data"
   ]
  },
  {
   "cell_type": "code",
   "execution_count": 6,
   "metadata": {},
   "outputs": [],
   "source": [
    "X_train_bw, X_val_bw, X_test_bw, y_train, y_val, y_test = load_data('emotions.csv')"
   ]
  },
  {
   "cell_type": "markdown",
   "metadata": {},
   "source": [
    "#### Displaying total counts of different labels"
   ]
  },
  {
   "cell_type": "code",
   "execution_count": 7,
   "metadata": {},
   "outputs": [
    {
     "data": {
      "text/plain": [
       "{0: 3995, 1: 436, 2: 4097, 3: 7215, 4: 4830, 5: 3171, 6: 4965}"
      ]
     },
     "execution_count": 7,
     "metadata": {},
     "output_type": "execute_result"
    }
   ],
   "source": [
    "import collections\n",
    "dict(collections.Counter(np.argmax(y_train, axis = 1)))"
   ]
  },
  {
   "cell_type": "markdown",
   "metadata": {},
   "source": [
    "### VGG Model"
   ]
  },
  {
   "cell_type": "code",
   "execution_count": 22,
   "metadata": {},
   "outputs": [],
   "source": [
    "from keras.models import Sequential\n",
    "from keras.optimizers import SGD,Adadelta\n",
    "from keras.layers.core import Flatten, Dense, Dropout\n",
    "from keras.layers.convolutional import Convolution2D, MaxPooling2D, ZeroPadding2D, AveragePooling2D\n",
    "from keras.layers import Dense, Dropout, Activation, Flatten, Conv2D, MaxPooling2D\n",
    "from keras.layers import Input, Dense, Dropout, Activation, Flatten, BatchNormalization\n",
    "from keras.layers.advanced_activations import PReLU\n",
    "import keras\n",
    "\n",
    "from keras.metrics import categorical_accuracy\n",
    "\n",
    "np.random.seed(100)"
   ]
  },
  {
   "cell_type": "markdown",
   "metadata": {},
   "source": [
    "### Model definition"
   ]
  },
  {
   "cell_type": "code",
   "execution_count": 44,
   "metadata": {},
   "outputs": [],
   "source": [
    "img_rows, img_cols = 48, 48\n",
    "\n",
    "model = Sequential()\n",
    "\n",
    "model.add(Conv2D(64, (5, 5), padding=\"valid\",\n",
    "                        input_shape=(img_rows, img_cols, 1)))\n",
    "model.add(BatchNormalization())\n",
    "model.add(PReLU(alpha_initializer='zero', weights=None))\n",
    "model.add(ZeroPadding2D(padding=(2, 2), data_format=\"channels_last\"))\n",
    "model.add(MaxPooling2D(pool_size=(5, 5), strides=(2, 2)))\n",
    "model.add(ZeroPadding2D(padding=(1, 1), data_format=\"channels_last\"))\n",
    "model.add(Dropout(0.5))\n",
    "\n",
    "model.add(Conv2D(64, (3, 3)))\n",
    "model.add(BatchNormalization())\n",
    "model.add(PReLU(alpha_initializer='zero', weights=None))\n",
    "model.add(ZeroPadding2D(padding=(1, 1), data_format=\"channels_last\"))\n",
    "model.add(Dropout(0.5))\n",
    "\n",
    "model.add(Conv2D(64, (3, 3)))\n",
    "model.add(BatchNormalization())\n",
    "model.add(PReLU(alpha_initializer='zero', weights=None))\n",
    "model.add(AveragePooling2D(pool_size=(3, 3), strides=(2, 2)))\n",
    "model.add(ZeroPadding2D(padding=(1, 1), data_format=\"channels_last\"))\n",
    "model.add(Dropout(0.5))\n",
    "\n",
    "model.add(Conv2D(128, (3, 3)))\n",
    "model.add(BatchNormalization())\n",
    "model.add(PReLU(alpha_initializer='zero', weights=None))\n",
    "model.add(ZeroPadding2D(padding=(1, 1), data_format=\"channels_last\"))\n",
    "model.add(Dropout(0.5))\n",
    "\n",
    "model.add(Conv2D(128, (3, 3)))\n",
    "model.add(BatchNormalization())\n",
    "model.add(PReLU(alpha_initializer='zero', weights=None)) \n",
    "model.add(ZeroPadding2D(padding=(1, 1), data_format=\"channels_last\"))\n",
    "model.add(AveragePooling2D(pool_size=(3, 3), strides=(2, 2)))\n",
    "model.add(Dropout(0.5))\n",
    "\n",
    "model.add(Flatten())\n",
    "\n",
    "model.add(Dense(1024))\n",
    "model.add(PReLU(alpha_initializer='zero', weights=None))\n",
    "model.add(Dropout(0.5))\n",
    "\n",
    "model.add(Dense(1024))\n",
    "model.add(PReLU(alpha_initializer='zero', weights=None))\n",
    "model.add(Dropout(0.5))\n",
    "\n",
    "model.add(Dense(7))\n",
    "\n",
    "model.add(Activation('softmax'))\n",
    "\n",
    "ada = Adadelta(lr=0.1, rho=0.95, epsilon=1e-08)\n",
    "\n",
    "model.compile(optimizer='adam', loss='categorical_crossentropy', metrics=[categorical_accuracy])"
   ]
  },
  {
   "cell_type": "code",
   "execution_count": 12,
   "metadata": {},
   "outputs": [
    {
     "name": "stdout",
     "output_type": "stream",
     "text": [
      "_________________________________________________________________\n",
      "Layer (type)                 Output Shape              Param #   \n",
      "=================================================================\n",
      "conv2d_6 (Conv2D)            (None, 44, 44, 64)        1664      \n",
      "_________________________________________________________________\n",
      "p_re_lu_8 (PReLU)            (None, 44, 44, 64)        123904    \n",
      "_________________________________________________________________\n",
      "zero_padding2d_7 (ZeroPaddin (None, 48, 48, 64)        0         \n",
      "_________________________________________________________________\n",
      "max_pooling2d_2 (MaxPooling2 (None, 22, 22, 64)        0         \n",
      "_________________________________________________________________\n",
      "zero_padding2d_8 (ZeroPaddin (None, 24, 24, 64)        0         \n",
      "_________________________________________________________________\n",
      "conv2d_7 (Conv2D)            (None, 22, 22, 64)        36928     \n",
      "_________________________________________________________________\n",
      "p_re_lu_9 (PReLU)            (None, 22, 22, 64)        30976     \n",
      "_________________________________________________________________\n",
      "zero_padding2d_9 (ZeroPaddin (None, 24, 24, 64)        0         \n",
      "_________________________________________________________________\n",
      "conv2d_8 (Conv2D)            (None, 22, 22, 64)        36928     \n",
      "_________________________________________________________________\n",
      "p_re_lu_10 (PReLU)           (None, 22, 22, 64)        30976     \n",
      "_________________________________________________________________\n",
      "average_pooling2d_3 (Average (None, 10, 10, 64)        0         \n",
      "_________________________________________________________________\n",
      "zero_padding2d_10 (ZeroPaddi (None, 12, 12, 64)        0         \n",
      "_________________________________________________________________\n",
      "conv2d_9 (Conv2D)            (None, 10, 10, 128)       73856     \n",
      "_________________________________________________________________\n",
      "p_re_lu_11 (PReLU)           (None, 10, 10, 128)       12800     \n",
      "_________________________________________________________________\n",
      "zero_padding2d_11 (ZeroPaddi (None, 12, 12, 128)       0         \n",
      "_________________________________________________________________\n",
      "conv2d_10 (Conv2D)           (None, 10, 10, 128)       147584    \n",
      "_________________________________________________________________\n",
      "p_re_lu_12 (PReLU)           (None, 10, 10, 128)       12800     \n",
      "_________________________________________________________________\n",
      "zero_padding2d_12 (ZeroPaddi (None, 12, 12, 128)       0         \n",
      "_________________________________________________________________\n",
      "average_pooling2d_4 (Average (None, 5, 5, 128)         0         \n",
      "_________________________________________________________________\n",
      "flatten_2 (Flatten)          (None, 3200)              0         \n",
      "_________________________________________________________________\n",
      "dense_4 (Dense)              (None, 1024)              3277824   \n",
      "_________________________________________________________________\n",
      "p_re_lu_13 (PReLU)           (None, 1024)              1024      \n",
      "_________________________________________________________________\n",
      "dropout_3 (Dropout)          (None, 1024)              0         \n",
      "_________________________________________________________________\n",
      "dense_5 (Dense)              (None, 1024)              1049600   \n",
      "_________________________________________________________________\n",
      "p_re_lu_14 (PReLU)           (None, 1024)              1024      \n",
      "_________________________________________________________________\n",
      "dropout_4 (Dropout)          (None, 1024)              0         \n",
      "_________________________________________________________________\n",
      "dense_6 (Dense)              (None, 7)                 7175      \n",
      "_________________________________________________________________\n",
      "activation_2 (Activation)    (None, 7)                 0         \n",
      "=================================================================\n",
      "Total params: 4,845,063\n",
      "Trainable params: 4,845,063\n",
      "Non-trainable params: 0\n",
      "_________________________________________________________________\n"
     ]
    }
   ],
   "source": [
    "model.summary()"
   ]
  },
  {
   "cell_type": "code",
   "execution_count": 52,
   "metadata": {},
   "outputs": [
    {
     "name": "stdout",
     "output_type": "stream",
     "text": [
      "Train on 28709 samples, validate on 3589 samples\n",
      "Epoch 1/30\n",
      "28709/28709 [==============================] - 31s 1ms/step - loss: 0.4942 - categorical_accuracy: 0.8254 - val_loss: 1.1046 - val_categorical_accuracy: 0.6503\n",
      "Epoch 2/30\n",
      "28709/28709 [==============================] - 31s 1ms/step - loss: 0.4926 - categorical_accuracy: 0.8255 - val_loss: 1.1312 - val_categorical_accuracy: 0.6383\n",
      "Epoch 3/30\n",
      "28709/28709 [==============================] - 32s 1ms/step - loss: 0.4866 - categorical_accuracy: 0.8283 - val_loss: 1.0853 - val_categorical_accuracy: 0.6548\n",
      "Epoch 4/30\n",
      "28709/28709 [==============================] - 32s 1ms/step - loss: 0.4831 - categorical_accuracy: 0.8318 - val_loss: 1.0989 - val_categorical_accuracy: 0.6447\n",
      "Epoch 5/30\n",
      "28709/28709 [==============================] - 31s 1ms/step - loss: 0.4881 - categorical_accuracy: 0.8277 - val_loss: 1.1003 - val_categorical_accuracy: 0.6517\n",
      "Epoch 6/30\n",
      "28709/28709 [==============================] - 32s 1ms/step - loss: 0.4863 - categorical_accuracy: 0.8282 - val_loss: 1.0865 - val_categorical_accuracy: 0.6500\n",
      "Epoch 7/30\n",
      "28709/28709 [==============================] - 32s 1ms/step - loss: 0.4749 - categorical_accuracy: 0.8370 - val_loss: 1.1280 - val_categorical_accuracy: 0.6467\n",
      "Epoch 8/30\n",
      "28709/28709 [==============================] - 31s 1ms/step - loss: 0.4835 - categorical_accuracy: 0.8306 - val_loss: 1.1516 - val_categorical_accuracy: 0.6311\n",
      "Epoch 9/30\n",
      "28709/28709 [==============================] - 31s 1ms/step - loss: 0.4898 - categorical_accuracy: 0.8258 - val_loss: 1.0913 - val_categorical_accuracy: 0.6512\n",
      "Epoch 10/30\n",
      "28709/28709 [==============================] - 31s 1ms/step - loss: 0.4794 - categorical_accuracy: 0.8298 - val_loss: 1.1131 - val_categorical_accuracy: 0.6503\n",
      "Epoch 11/30\n",
      "28709/28709 [==============================] - 31s 1ms/step - loss: 0.4857 - categorical_accuracy: 0.8280 - val_loss: 1.1114 - val_categorical_accuracy: 0.6528\n",
      "Epoch 12/30\n",
      "28709/28709 [==============================] - 32s 1ms/step - loss: 0.4798 - categorical_accuracy: 0.8321 - val_loss: 1.0982 - val_categorical_accuracy: 0.6520\n",
      "Epoch 13/30\n",
      "28709/28709 [==============================] - 31s 1ms/step - loss: 0.4671 - categorical_accuracy: 0.8369 - val_loss: 1.0791 - val_categorical_accuracy: 0.6467\n",
      "Epoch 14/30\n",
      "28709/28709 [==============================] - 32s 1ms/step - loss: 0.4647 - categorical_accuracy: 0.8382 - val_loss: 1.1403 - val_categorical_accuracy: 0.6358\n",
      "Epoch 15/30\n",
      "28709/28709 [==============================] - 31s 1ms/step - loss: 0.4766 - categorical_accuracy: 0.8334 - val_loss: 1.0899 - val_categorical_accuracy: 0.6534\n",
      "Epoch 16/30\n",
      "28709/28709 [==============================] - 31s 1ms/step - loss: 0.4730 - categorical_accuracy: 0.8342 - val_loss: 1.1355 - val_categorical_accuracy: 0.6434\n",
      "Epoch 17/30\n",
      "28709/28709 [==============================] - 31s 1ms/step - loss: 0.4774 - categorical_accuracy: 0.8334 - val_loss: 1.1377 - val_categorical_accuracy: 0.6344\n",
      "Epoch 18/30\n",
      "28709/28709 [==============================] - 31s 1ms/step - loss: 0.4575 - categorical_accuracy: 0.8372 - val_loss: 1.1046 - val_categorical_accuracy: 0.6489\n",
      "Epoch 19/30\n",
      "28709/28709 [==============================] - 31s 1ms/step - loss: 0.4599 - categorical_accuracy: 0.8391 - val_loss: 1.1414 - val_categorical_accuracy: 0.6425\n",
      "Epoch 20/30\n",
      "28709/28709 [==============================] - 31s 1ms/step - loss: 0.4607 - categorical_accuracy: 0.8380 - val_loss: 1.1215 - val_categorical_accuracy: 0.6447\n",
      "Epoch 21/30\n",
      "28709/28709 [==============================] - 31s 1ms/step - loss: 0.4546 - categorical_accuracy: 0.8412 - val_loss: 1.0932 - val_categorical_accuracy: 0.6484\n",
      "Epoch 22/30\n",
      "28709/28709 [==============================] - 31s 1ms/step - loss: 0.4471 - categorical_accuracy: 0.8440 - val_loss: 1.1904 - val_categorical_accuracy: 0.6344\n",
      "Epoch 23/30\n",
      "28709/28709 [==============================] - 31s 1ms/step - loss: 0.4638 - categorical_accuracy: 0.8387 - val_loss: 1.1967 - val_categorical_accuracy: 0.6133\n",
      "Epoch 24/30\n",
      "28709/28709 [==============================] - 31s 1ms/step - loss: 0.4563 - categorical_accuracy: 0.8382 - val_loss: 1.1046 - val_categorical_accuracy: 0.6475\n",
      "Epoch 25/30\n",
      "28709/28709 [==============================] - 31s 1ms/step - loss: 0.4463 - categorical_accuracy: 0.8443 - val_loss: 1.1063 - val_categorical_accuracy: 0.6523\n",
      "Epoch 26/30\n",
      "28709/28709 [==============================] - 31s 1ms/step - loss: 0.4498 - categorical_accuracy: 0.8438 - val_loss: 1.1087 - val_categorical_accuracy: 0.6525\n",
      "Epoch 27/30\n",
      "28709/28709 [==============================] - 31s 1ms/step - loss: 0.4464 - categorical_accuracy: 0.8436 - val_loss: 1.1180 - val_categorical_accuracy: 0.6523\n",
      "Epoch 28/30\n",
      "28709/28709 [==============================] - 31s 1ms/step - loss: 0.4505 - categorical_accuracy: 0.8436 - val_loss: 1.1044 - val_categorical_accuracy: 0.6442\n",
      "Epoch 29/30\n",
      "28709/28709 [==============================] - 31s 1ms/step - loss: 0.4439 - categorical_accuracy: 0.8442 - val_loss: 1.1445 - val_categorical_accuracy: 0.6478\n",
      "Epoch 30/30\n",
      "28709/28709 [==============================] - 31s 1ms/step - loss: 0.4474 - categorical_accuracy: 0.8437 - val_loss: 1.1427 - val_categorical_accuracy: 0.6442\n"
     ]
    },
    {
     "data": {
      "text/plain": [
       "<keras.callbacks.History at 0x7f644e05b908>"
      ]
     },
     "execution_count": 52,
     "metadata": {},
     "output_type": "execute_result"
    }
   ],
   "source": [
    "\"Training with augmented data. Augmentation takes place while training\"\n",
    "\n",
    "from keras.preprocessing.image import ImageDataGenerator\n",
    "\n",
    "#Generate augmented data\n",
    "datagen = ImageDataGenerator(\n",
    "    featurewise_center=False,  # set input mean to 0 over the dataset\n",
    "    samplewise_center=False,  # set each sample mean to 0\n",
    "    featurewise_std_normalization=False,  # divide inputs by std of the dataset\n",
    "    samplewise_std_normalization=False,  # divide each input by its std\n",
    "    zca_whitening=False,  # apply ZCA whitening\n",
    "    rotation_range=25,  # randomly rotate images in the range (degrees, 0 to 180)\n",
    "    width_shift_range=0.2,  # randomly shift images horizontally (fraction of total width)\n",
    "    height_shift_range=0.2,  # randomly shift images vertically (fraction of total height)\n",
    "    horizontal_flip=True,  # randomly flip images\n",
    "    vertical_flip=False)  # randomly flip images\n",
    "\n",
    "valgen = ImageDataGenerator(\n",
    "    featurewise_center=False,  # set input mean to 0 over the dataset\n",
    "    samplewise_center=False,  # set each sample mean to 0\n",
    "    featurewise_std_normalization=False,  # divide inputs by std of the dataset\n",
    "    samplewise_std_normalization=False,  # divide each input by its std\n",
    "    zca_whitening=False,  # apply ZCA whitening\n",
    "    rotation_range=25,  # randomly rotate images in the range (degrees, 0 to 180)\n",
    "    width_shift_range=0.2,  # randomly shift images horizontally (fraction of total width)\n",
    "    height_shift_range=0.2,  # randomly shift images vertically (fraction of total height)\n",
    "    horizontal_flip=True,  # randomly flip images\n",
    "    vertical_flip=False) \n",
    "\n",
    "datagen.fit(X_train_bw)\n",
    "valgen.fit(X_val_bw)\n",
    "\n",
    "model.load_weights('vgg.h5')\n",
    "\n",
    "model.fit(X_train_bw, y_train, batch_size=128, epochs=30, validation_data=(X_val_bw, y_val))"
   ]
  },
  {
   "cell_type": "code",
   "execution_count": 51,
   "metadata": {},
   "outputs": [],
   "source": [
    "model.save_weights('vgg.h5')"
   ]
  },
  {
   "cell_type": "code",
   "execution_count": 54,
   "metadata": {},
   "outputs": [],
   "source": [
    "model_json = model.to_json()"
   ]
  },
  {
   "cell_type": "code",
   "execution_count": 55,
   "metadata": {},
   "outputs": [],
   "source": [
    "with open(\"vgg.json\", \"w\") as json_file:\n",
    "    json_file.write(model_json)"
   ]
  },
  {
   "cell_type": "markdown",
   "metadata": {},
   "source": [
    "### Evaluation"
   ]
  },
  {
   "cell_type": "code",
   "execution_count": 56,
   "metadata": {},
   "outputs": [
    {
     "name": "stdout",
     "output_type": "stream",
     "text": [
      "3589/3589 [==============================] - 2s 457us/step\n"
     ]
    },
    {
     "data": {
      "text/plain": [
       "[1.066487466103189, 0.6645305098996385]"
      ]
     },
     "execution_count": 56,
     "metadata": {},
     "output_type": "execute_result"
    }
   ],
   "source": [
    "model.evaluate(X_test_bw, y_test)"
   ]
  },
  {
   "cell_type": "code",
   "execution_count": 57,
   "metadata": {},
   "outputs": [],
   "source": [
    "from sklearn.metrics import confusion_matrix"
   ]
  },
  {
   "cell_type": "code",
   "execution_count": 58,
   "metadata": {},
   "outputs": [],
   "source": [
    "y = pd.DataFrame(np.argmax(y_test, axis = 1), columns=['true'])"
   ]
  },
  {
   "cell_type": "code",
   "execution_count": 59,
   "metadata": {},
   "outputs": [],
   "source": [
    "y['pred'] = model.predict_classes(X_test_bw)"
   ]
  },
  {
   "cell_type": "code",
   "execution_count": 60,
   "metadata": {},
   "outputs": [],
   "source": [
    "y['true'] = y['true'].map(mapping)"
   ]
  },
  {
   "cell_type": "code",
   "execution_count": 61,
   "metadata": {},
   "outputs": [],
   "source": [
    "y['pred'] = y['pred'].map(mapping)"
   ]
  },
  {
   "cell_type": "code",
   "execution_count": 62,
   "metadata": {},
   "outputs": [],
   "source": [
    "import itertools\n",
    "\n",
    "def plot_confusion_matrix(cm, classes,\n",
    "                          normalize=False,\n",
    "                          title='Confusion matrix',\n",
    "                          cmap=plt.cm.Blues):\n",
    "    \"\"\"\n",
    "    This function prints and plots the confusion matrix.\n",
    "    Normalization can be applied by setting `normalize=True`.\n",
    "    \"\"\"\n",
    "    if normalize:\n",
    "        cm = cm.astype('float') / cm.sum(axis=1)[:, np.newaxis]\n",
    "\n",
    "    plt.imshow(cm, interpolation='nearest', cmap=cmap)\n",
    "    plt.title(title, fontdict = {'fontsize': 20})\n",
    "    plt.colorbar(fraction=0.046, pad=0.04)\n",
    "    tick_marks = np.arange(len(classes))\n",
    "    plt.xticks(tick_marks, classes, rotation=45)\n",
    "    plt.yticks(tick_marks, classes)\n",
    "\n",
    "    fmt = '.2f' if normalize else 'd'\n",
    "    thresh = cm.max() / 2.\n",
    "    for i, j in itertools.product(range(cm.shape[0]), range(cm.shape[1])):\n",
    "        plt.text(j, i, format(cm[i, j], fmt),\n",
    "                 horizontalalignment=\"center\",\n",
    "                 color=\"white\" if cm[i, j] > thresh else \"black\")\n",
    "\n",
    "    plt.ylabel('True label')\n",
    "    plt.xlabel('Predicted label')\n",
    "    plt.tight_layout()"
   ]
  },
  {
   "cell_type": "code",
   "execution_count": 63,
   "metadata": {},
   "outputs": [
    {
     "name": "stderr",
     "output_type": "stream",
     "text": [
      "/usr/local/envs/py3env/lib/python3.5/site-packages/matplotlib/font_manager.py:1320: UserWarning: findfont: Font family ['sans-serif'] not found. Falling back to DejaVu Sans\n",
      "  (prop.get_family(), self.defaultFamily[fontext]))\n"
     ]
    },
    {
     "data": {
      "image/png": "[encoded data removed]",
      "text/plain": [
       "<matplotlib.figure.Figure at 0x7f647d057ef0>"
      ]
     },
     "metadata": {},
     "output_type": "display_data"
    }
   ],
   "source": [
    "cnf_matrix = confusion_matrix(y['true'], y['pred'],\n",
    "                              labels=['Angry', 'Disgust', 'Fear', 'Happy', 'Sad', 'Surprise', 'Neutral'])\n",
    "\n",
    "np.set_printoptions(precision=2)\n",
    "\n",
    "\n",
    "plt.figure(figsize=(9, 9))\n",
    "plot_confusion_matrix(cnf_matrix, \n",
    "                      classes=['Angry', 'Disgust', 'Fear', 'Happy', 'Sad', 'Surprise', 'Neutral'],\n",
    "                      title='Confusion matrix, without normalization', cmap = 'Purples')"
   ]
  },
  {
   "cell_type": "code",
   "execution_count": 64,
   "metadata": {},
   "outputs": [
    {
     "name": "stderr",
     "output_type": "stream",
     "text": [
      "/usr/local/envs/py3env/lib/python3.5/site-packages/matplotlib/font_manager.py:1320: UserWarning: findfont: Font family ['sans-serif'] not found. Falling back to DejaVu Sans\n",
      "  (prop.get_family(), self.defaultFamily[fontext]))\n"
     ]
    },
    {
     "data": {
      "image/png": "[encoded data removed]",
      "text/plain": [
       "<matplotlib.figure.Figure at 0x7f644e04a828>"
      ]
     },
     "metadata": {},
     "output_type": "display_data"
    }
   ],
   "source": [
    "plt.figure(figsize=(9, 9))\n",
    "plot_confusion_matrix(cnf_matrix, \n",
    "                      classes=['Angry', 'Disgust', 'Fear', 'Happy', 'Sad', 'Surprise', 'Neutral'],\n",
    "                      normalize=True,\n",
    "                      title='', cmap = 'Purples')\n",
    "# plt.savefig('../images/confusion.png')"
   ]
  }
 ],
 "metadata": {
  "kernelspec": {
   "display_name": "Python 3",
   "language": "python",
   "name": "python3"
  },
  "language_info": {
   "codemirror_mode": {
    "name": "ipython",
    "version": 3
   },
   "file_extension": ".py",
   "mimetype": "text/x-python",
   "name": "python",
   "nbconvert_exporter": "python",
   "pygments_lexer": "ipython3",
   "version": "3.5.6"
  }
 },
 "nbformat": 4,
 "nbformat_minor": 2
}
