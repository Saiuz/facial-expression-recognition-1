{
 "cells": [
  {
   "cell_type": "code",
   "execution_count": 1,
   "metadata": {},
   "outputs": [
    {
     "name": "stdout",
     "output_type": "stream",
     "text": [
      "Requirement already satisfied: keras in /usr/local/envs/py3env/lib/python3.5/site-packages (2.2.4)\n",
      "Requirement already satisfied: h5py in /usr/local/envs/py3env/lib/python3.5/site-packages (from keras) (2.9.0)\n",
      "Requirement already satisfied: numpy>=1.9.1 in /usr/local/envs/py3env/lib/python3.5/site-packages (from keras) (1.14.0)\n",
      "Requirement already satisfied: scipy>=0.14 in /usr/local/envs/py3env/lib/python3.5/site-packages (from keras) (1.0.0)\n",
      "Requirement already satisfied: keras-applications>=1.0.6 in /usr/local/envs/py3env/lib/python3.5/site-packages (from keras) (1.0.7)\n",
      "Requirement already satisfied: six>=1.9.0 in /usr/local/envs/py3env/lib/python3.5/site-packages (from keras) (1.10.0)\n",
      "Requirement already satisfied: pyyaml in /usr/local/envs/py3env/lib/python3.5/site-packages (from keras) (3.13)\n",
      "Requirement already satisfied: keras-preprocessing>=1.0.5 in /usr/local/envs/py3env/lib/python3.5/site-packages (from keras) (1.0.9)\n"
     ]
    }
   ],
   "source": [
    "!pip install keras"
   ]
  },
  {
   "cell_type": "code",
   "execution_count": 2,
   "metadata": {},
   "outputs": [
    {
     "name": "stderr",
     "output_type": "stream",
     "text": [
      "Using TensorFlow backend.\n"
     ]
    }
   ],
   "source": [
    "import pandas as pd\n",
    "import numpy as np\n",
    "\n",
    "from scipy.ndimage import rotate\n",
    "from scipy.ndimage import gaussian_filter\n",
    "\n",
    "import matplotlib.pyplot as plt\n",
    "\n",
    "import random\n",
    "\n",
    "import keras\n",
    "\n",
    "%matplotlib inline"
   ]
  },
  {
   "cell_type": "code",
   "execution_count": 3,
   "metadata": {},
   "outputs": [],
   "source": [
    "mapping = {\n",
    "    0: 'Angry',\n",
    "    1: 'Disgust',\n",
    "    2: 'Fear',\n",
    "    3: 'Happy',\n",
    "    4: 'Sad',\n",
    "    5: 'Surprise',\n",
    "    6: 'Neutral'\n",
    "}\n",
    "\n",
    "imapping = {\n",
    "    'Angry': 0,\n",
    "    'Disgust': 1,\n",
    "    'Fear': 2,\n",
    "    'Happy': 3,\n",
    "    'Sad': 4,\n",
    "    'Surprise': 5,\n",
    "    'Neutral': 6\n",
    "}\n",
    "\n",
    "\n",
    "def flip_horizontally(image):\n",
    "    return np.flip(image, axis=1)\n",
    "\n",
    "\n",
    "def add_noise(image):\n",
    "    return image + np.random.poisson(image.astype('float64'))\n",
    "\n",
    "\n",
    "def rotate_right(image, angle=-20):\n",
    "    return rotate(image, angle, mode='reflect', reshape=False)\n",
    "\n",
    "\n",
    "def rotate_left(image, angle=20):\n",
    "    return rotate(image, angle, mode='reflect', reshape=False)\n",
    "\n",
    "\n",
    "def add_blur(image):\n",
    "    return gaussian_filter(image, sigma=1)"
   ]
  },
  {
   "cell_type": "code",
   "execution_count": 4,
   "metadata": {},
   "outputs": [],
   "source": [
    "def find_subsets(df: pd.DataFrame, class_to_fraction: dict):\n",
    "    \"\"\"\n",
    "    select random subsets for given classes with given fractions\n",
    "    :param df: data\n",
    "    :param class_to_fraction: dictionary {'emotion' : fraction of the data to that is going to be augmented}\n",
    "    :return: indices of the images to augmented\n",
    "    \"\"\"\n",
    "    data = df.loc[df['y'].isin(class_to_fraction.keys())]\n",
    "    indices = []\n",
    "    for emotion in class_to_fraction.keys():\n",
    "        temp = data.loc[data['y'] == emotion]\n",
    "        indices = indices + random.sample(temp.index.tolist(), int(class_to_fraction[emotion] * len(temp)))\n",
    "\n",
    "    return indices"
   ]
  },
  {
   "cell_type": "code",
   "execution_count": 5,
   "metadata": {},
   "outputs": [],
   "source": [
    "class Augmenter:\n",
    "\n",
    "    @staticmethod\n",
    "    def augment_images(df: pd.DataFrame, \n",
    "                       target_file: str = None, \n",
    "                       class_to_fraction: dict = {'Disgust': 1}, \n",
    "                       augmentations: list = ['flip']) -> pd.DataFrame:\n",
    "\n",
    "        # df = pd.read_csv(source_file)\n",
    "\n",
    "        df['category'] = df['category'].str.strip()\n",
    "\n",
    "        del df['Unnamed: 0']\n",
    "\n",
    "        df['y'] = df['y'].map(mapping)\n",
    "\n",
    "        indices = find_subsets(df, class_to_fraction)\n",
    "\n",
    "        print(len(indices))\n",
    "        temp = []\n",
    "\n",
    "        if 'flip' in augmentations:\n",
    "            for index in indices:\n",
    "                temp.append([df.iloc[index, 0]] + flip_horizontally(\n",
    "                    np.array(df.iloc[index, 1:2305]).reshape((48, 48))).flatten().tolist() + [df.iloc[index, 2305]])\n",
    "\n",
    "        if 'noise' in augmentations:\n",
    "            for index in indices:\n",
    "                temp.append([df.iloc[index, 0]] + add_noise(\n",
    "                    np.array(df.iloc[index, 1:2305]).reshape((48, 48))).flatten().tolist() + [df.iloc[index, 2305]])\n",
    "\n",
    "        if 'rotate_right' in augmentations:\n",
    "            for index in indices:\n",
    "                temp.append([df.iloc[index, 0]] + rotate_right(\n",
    "                    np.array(df.iloc[index, 1:2305], dtype='int').reshape((48, 48))).flatten().tolist() + [df.iloc[index, 2305]])\n",
    "\n",
    "        if 'rotate_left' in augmentations:\n",
    "            for index in indices:\n",
    "                temp.append([df.iloc[index, 0]] + rotate_left(\n",
    "                    np.array(df.iloc[index, 1:2305], dtype='int').reshape((48, 48))).flatten().tolist() + [df.iloc[index, 2305]])\n",
    "\n",
    "        if 'blur' in augmentations:\n",
    "            for index in indices:\n",
    "                temp.append([df.iloc[index, 0]] + add_blur(\n",
    "                    np.array(df.iloc[index, 1:2305], dtype='int').reshape((48, 48))).flatten().tolist() + [df.iloc[index, 2305]])\n",
    "\n",
    "        print(len(temp))\n",
    "\n",
    "        data = pd.DataFrame(temp, columns=df.columns)\n",
    "\n",
    "        if target_file:\n",
    "            data.to_csv(target_file)\n",
    "\n",
    "        return data"
   ]
  },
  {
   "cell_type": "markdown",
   "metadata": {},
   "source": [
    "### Read data"
   ]
  },
  {
   "cell_type": "code",
   "execution_count": 6,
   "metadata": {},
   "outputs": [],
   "source": [
    "df = pd.read_csv('emotions.csv')"
   ]
  },
  {
   "cell_type": "code",
   "execution_count": 7,
   "metadata": {},
   "outputs": [],
   "source": [
    "df['category'] = df['category'].str.strip()"
   ]
  },
  {
   "cell_type": "code",
   "execution_count": 8,
   "metadata": {},
   "outputs": [],
   "source": [
    "train = df[df['category'] == 'Training']\n",
    "valid = df.loc[df.category == 'PublicTest']\n",
    "test  = df.loc[df.category == 'PrivateTest']"
   ]
  },
  {
   "cell_type": "markdown",
   "metadata": {},
   "source": [
    "#### Create a dictionary with classes fractions to augment"
   ]
  },
  {
   "cell_type": "code",
   "execution_count": 9,
   "metadata": {},
   "outputs": [],
   "source": [
    "ctf = {\n",
    "    'Disgust': 1,\n",
    "    'Sad': 0.1,\n",
    "    'Fear': 0.1,\n",
    "    'Neutral': 0.1,\n",
    "    'Angry': 0.1\n",
    "}"
   ]
  },
  {
   "cell_type": "code",
   "execution_count": 10,
   "metadata": {},
   "outputs": [
    {
     "name": "stdout",
     "output_type": "stream",
     "text": [
      "2223\n",
      "11115\n"
     ]
    }
   ],
   "source": [
    "aug = Augmenter.augment_images(train.copy(), None, ctf, ['flip', 'rotate_right', 'rotate_left', 'blur', 'noise'])"
   ]
  },
  {
   "cell_type": "code",
   "execution_count": 11,
   "metadata": {},
   "outputs": [
    {
     "data": {
      "text/html": [
       "<div>\n",
       "<style scoped>\n",
       "    .dataframe tbody tr th:only-of-type {\n",
       "        vertical-align: middle;\n",
       "    }\n",
       "\n",
       "    .dataframe tbody tr th {\n",
       "        vertical-align: top;\n",
       "    }\n",
       "\n",
       "    .dataframe thead th {\n",
       "        text-align: right;\n",
       "    }\n",
       "</style>\n",
       "<table border=\"1\" class=\"dataframe\">\n",
       "  <thead>\n",
       "    <tr style=\"text-align: right;\">\n",
       "      <th></th>\n",
       "      <th>Unnamed: 0</th>\n",
       "      <th>y</th>\n",
       "      <th>0</th>\n",
       "      <th>1</th>\n",
       "      <th>2</th>\n",
       "      <th>3</th>\n",
       "      <th>4</th>\n",
       "      <th>5</th>\n",
       "      <th>6</th>\n",
       "      <th>7</th>\n",
       "      <th>...</th>\n",
       "      <th>2295</th>\n",
       "      <th>2296</th>\n",
       "      <th>2297</th>\n",
       "      <th>2298</th>\n",
       "      <th>2299</th>\n",
       "      <th>2300</th>\n",
       "      <th>2301</th>\n",
       "      <th>2302</th>\n",
       "      <th>2303</th>\n",
       "      <th>category</th>\n",
       "    </tr>\n",
       "  </thead>\n",
       "  <tbody>\n",
       "    <tr>\n",
       "      <th>0</th>\n",
       "      <td>0</td>\n",
       "      <td>0</td>\n",
       "      <td>70</td>\n",
       "      <td>80</td>\n",
       "      <td>82</td>\n",
       "      <td>72</td>\n",
       "      <td>58</td>\n",
       "      <td>58</td>\n",
       "      <td>60</td>\n",
       "      <td>63</td>\n",
       "      <td>...</td>\n",
       "      <td>182</td>\n",
       "      <td>183</td>\n",
       "      <td>136</td>\n",
       "      <td>106</td>\n",
       "      <td>116</td>\n",
       "      <td>95</td>\n",
       "      <td>106</td>\n",
       "      <td>109</td>\n",
       "      <td>82</td>\n",
       "      <td>Training</td>\n",
       "    </tr>\n",
       "    <tr>\n",
       "      <th>1</th>\n",
       "      <td>1</td>\n",
       "      <td>0</td>\n",
       "      <td>151</td>\n",
       "      <td>150</td>\n",
       "      <td>147</td>\n",
       "      <td>155</td>\n",
       "      <td>148</td>\n",
       "      <td>133</td>\n",
       "      <td>111</td>\n",
       "      <td>140</td>\n",
       "      <td>...</td>\n",
       "      <td>108</td>\n",
       "      <td>95</td>\n",
       "      <td>108</td>\n",
       "      <td>102</td>\n",
       "      <td>67</td>\n",
       "      <td>171</td>\n",
       "      <td>193</td>\n",
       "      <td>183</td>\n",
       "      <td>184</td>\n",
       "      <td>Training</td>\n",
       "    </tr>\n",
       "    <tr>\n",
       "      <th>2</th>\n",
       "      <td>2</td>\n",
       "      <td>2</td>\n",
       "      <td>231</td>\n",
       "      <td>212</td>\n",
       "      <td>156</td>\n",
       "      <td>164</td>\n",
       "      <td>174</td>\n",
       "      <td>138</td>\n",
       "      <td>161</td>\n",
       "      <td>173</td>\n",
       "      <td>...</td>\n",
       "      <td>138</td>\n",
       "      <td>152</td>\n",
       "      <td>122</td>\n",
       "      <td>114</td>\n",
       "      <td>101</td>\n",
       "      <td>97</td>\n",
       "      <td>88</td>\n",
       "      <td>110</td>\n",
       "      <td>152</td>\n",
       "      <td>Training</td>\n",
       "    </tr>\n",
       "    <tr>\n",
       "      <th>3</th>\n",
       "      <td>3</td>\n",
       "      <td>4</td>\n",
       "      <td>24</td>\n",
       "      <td>32</td>\n",
       "      <td>36</td>\n",
       "      <td>30</td>\n",
       "      <td>32</td>\n",
       "      <td>23</td>\n",
       "      <td>19</td>\n",
       "      <td>20</td>\n",
       "      <td>...</td>\n",
       "      <td>126</td>\n",
       "      <td>132</td>\n",
       "      <td>132</td>\n",
       "      <td>133</td>\n",
       "      <td>136</td>\n",
       "      <td>139</td>\n",
       "      <td>142</td>\n",
       "      <td>143</td>\n",
       "      <td>142</td>\n",
       "      <td>Training</td>\n",
       "    </tr>\n",
       "    <tr>\n",
       "      <th>4</th>\n",
       "      <td>4</td>\n",
       "      <td>6</td>\n",
       "      <td>4</td>\n",
       "      <td>0</td>\n",
       "      <td>0</td>\n",
       "      <td>0</td>\n",
       "      <td>0</td>\n",
       "      <td>0</td>\n",
       "      <td>0</td>\n",
       "      <td>0</td>\n",
       "      <td>...</td>\n",
       "      <td>34</td>\n",
       "      <td>31</td>\n",
       "      <td>31</td>\n",
       "      <td>31</td>\n",
       "      <td>27</td>\n",
       "      <td>31</td>\n",
       "      <td>30</td>\n",
       "      <td>29</td>\n",
       "      <td>30</td>\n",
       "      <td>Training</td>\n",
       "    </tr>\n",
       "  </tbody>\n",
       "</table>\n",
       "<p>5 rows × 2307 columns</p>\n",
       "</div>"
      ],
      "text/plain": [
       "   Unnamed: 0  y    0    1    2    3    4    5    6    7    ...     2295  \\\n",
       "0           0  0   70   80   82   72   58   58   60   63    ...      182   \n",
       "1           1  0  151  150  147  155  148  133  111  140    ...      108   \n",
       "2           2  2  231  212  156  164  174  138  161  173    ...      138   \n",
       "3           3  4   24   32   36   30   32   23   19   20    ...      126   \n",
       "4           4  6    4    0    0    0    0    0    0    0    ...       34   \n",
       "\n",
       "   2296  2297  2298  2299  2300  2301  2302  2303  category  \n",
       "0   183   136   106   116    95   106   109    82  Training  \n",
       "1    95   108   102    67   171   193   183   184  Training  \n",
       "2   152   122   114   101    97    88   110   152  Training  \n",
       "3   132   132   133   136   139   142   143   142  Training  \n",
       "4    31    31    31    27    31    30    29    30  Training  \n",
       "\n",
       "[5 rows x 2307 columns]"
      ]
     },
     "execution_count": 11,
     "metadata": {},
     "output_type": "execute_result"
    }
   ],
   "source": [
    "train.head()"
   ]
  },
  {
   "cell_type": "code",
   "execution_count": 12,
   "metadata": {},
   "outputs": [
    {
     "data": {
      "text/html": [
       "<div>\n",
       "<style scoped>\n",
       "    .dataframe tbody tr th:only-of-type {\n",
       "        vertical-align: middle;\n",
       "    }\n",
       "\n",
       "    .dataframe tbody tr th {\n",
       "        vertical-align: top;\n",
       "    }\n",
       "\n",
       "    .dataframe thead th {\n",
       "        text-align: right;\n",
       "    }\n",
       "</style>\n",
       "<table border=\"1\" class=\"dataframe\">\n",
       "  <thead>\n",
       "    <tr style=\"text-align: right;\">\n",
       "      <th></th>\n",
       "      <th>y</th>\n",
       "      <th>0</th>\n",
       "      <th>1</th>\n",
       "      <th>2</th>\n",
       "      <th>3</th>\n",
       "      <th>4</th>\n",
       "      <th>5</th>\n",
       "      <th>6</th>\n",
       "      <th>7</th>\n",
       "      <th>8</th>\n",
       "      <th>...</th>\n",
       "      <th>2295</th>\n",
       "      <th>2296</th>\n",
       "      <th>2297</th>\n",
       "      <th>2298</th>\n",
       "      <th>2299</th>\n",
       "      <th>2300</th>\n",
       "      <th>2301</th>\n",
       "      <th>2302</th>\n",
       "      <th>2303</th>\n",
       "      <th>category</th>\n",
       "    </tr>\n",
       "  </thead>\n",
       "  <tbody>\n",
       "    <tr>\n",
       "      <th>0</th>\n",
       "      <td>Fear</td>\n",
       "      <td>116</td>\n",
       "      <td>119</td>\n",
       "      <td>123</td>\n",
       "      <td>128</td>\n",
       "      <td>131</td>\n",
       "      <td>135</td>\n",
       "      <td>140</td>\n",
       "      <td>144</td>\n",
       "      <td>144</td>\n",
       "      <td>...</td>\n",
       "      <td>199</td>\n",
       "      <td>207</td>\n",
       "      <td>214</td>\n",
       "      <td>216</td>\n",
       "      <td>238</td>\n",
       "      <td>254</td>\n",
       "      <td>251</td>\n",
       "      <td>241</td>\n",
       "      <td>195</td>\n",
       "      <td>Training</td>\n",
       "    </tr>\n",
       "    <tr>\n",
       "      <th>1</th>\n",
       "      <td>Fear</td>\n",
       "      <td>247</td>\n",
       "      <td>249</td>\n",
       "      <td>249</td>\n",
       "      <td>249</td>\n",
       "      <td>252</td>\n",
       "      <td>70</td>\n",
       "      <td>36</td>\n",
       "      <td>22</td>\n",
       "      <td>14</td>\n",
       "      <td>...</td>\n",
       "      <td>167</td>\n",
       "      <td>167</td>\n",
       "      <td>150</td>\n",
       "      <td>144</td>\n",
       "      <td>147</td>\n",
       "      <td>156</td>\n",
       "      <td>155</td>\n",
       "      <td>164</td>\n",
       "      <td>127</td>\n",
       "      <td>Training</td>\n",
       "    </tr>\n",
       "    <tr>\n",
       "      <th>2</th>\n",
       "      <td>Fear</td>\n",
       "      <td>52</td>\n",
       "      <td>53</td>\n",
       "      <td>53</td>\n",
       "      <td>53</td>\n",
       "      <td>51</td>\n",
       "      <td>50</td>\n",
       "      <td>51</td>\n",
       "      <td>64</td>\n",
       "      <td>68</td>\n",
       "      <td>...</td>\n",
       "      <td>100</td>\n",
       "      <td>99</td>\n",
       "      <td>125</td>\n",
       "      <td>123</td>\n",
       "      <td>124</td>\n",
       "      <td>119</td>\n",
       "      <td>103</td>\n",
       "      <td>103</td>\n",
       "      <td>115</td>\n",
       "      <td>Training</td>\n",
       "    </tr>\n",
       "    <tr>\n",
       "      <th>3</th>\n",
       "      <td>Fear</td>\n",
       "      <td>115</td>\n",
       "      <td>123</td>\n",
       "      <td>91</td>\n",
       "      <td>42</td>\n",
       "      <td>25</td>\n",
       "      <td>36</td>\n",
       "      <td>47</td>\n",
       "      <td>44</td>\n",
       "      <td>29</td>\n",
       "      <td>...</td>\n",
       "      <td>60</td>\n",
       "      <td>46</td>\n",
       "      <td>46</td>\n",
       "      <td>52</td>\n",
       "      <td>71</td>\n",
       "      <td>96</td>\n",
       "      <td>113</td>\n",
       "      <td>64</td>\n",
       "      <td>0</td>\n",
       "      <td>Training</td>\n",
       "    </tr>\n",
       "    <tr>\n",
       "      <th>4</th>\n",
       "      <td>Fear</td>\n",
       "      <td>248</td>\n",
       "      <td>240</td>\n",
       "      <td>248</td>\n",
       "      <td>255</td>\n",
       "      <td>254</td>\n",
       "      <td>253</td>\n",
       "      <td>253</td>\n",
       "      <td>253</td>\n",
       "      <td>253</td>\n",
       "      <td>...</td>\n",
       "      <td>219</td>\n",
       "      <td>219</td>\n",
       "      <td>221</td>\n",
       "      <td>222</td>\n",
       "      <td>223</td>\n",
       "      <td>223</td>\n",
       "      <td>224</td>\n",
       "      <td>219</td>\n",
       "      <td>213</td>\n",
       "      <td>Training</td>\n",
       "    </tr>\n",
       "  </tbody>\n",
       "</table>\n",
       "<p>5 rows × 2306 columns</p>\n",
       "</div>"
      ],
      "text/plain": [
       "      y    0    1    2    3    4    5    6    7    8    ...     2295  2296  \\\n",
       "0  Fear  116  119  123  128  131  135  140  144  144    ...      199   207   \n",
       "1  Fear  247  249  249  249  252   70   36   22   14    ...      167   167   \n",
       "2  Fear   52   53   53   53   51   50   51   64   68    ...      100    99   \n",
       "3  Fear  115  123   91   42   25   36   47   44   29    ...       60    46   \n",
       "4  Fear  248  240  248  255  254  253  253  253  253    ...      219   219   \n",
       "\n",
       "   2297  2298  2299  2300  2301  2302  2303  category  \n",
       "0   214   216   238   254   251   241   195  Training  \n",
       "1   150   144   147   156   155   164   127  Training  \n",
       "2   125   123   124   119   103   103   115  Training  \n",
       "3    46    52    71    96   113    64     0  Training  \n",
       "4   221   222   223   223   224   219   213  Training  \n",
       "\n",
       "[5 rows x 2306 columns]"
      ]
     },
     "execution_count": 12,
     "metadata": {},
     "output_type": "execute_result"
    }
   ],
   "source": [
    "aug.head()"
   ]
  },
  {
   "cell_type": "code",
   "execution_count": 13,
   "metadata": {},
   "outputs": [],
   "source": [
    "del train['Unnamed: 0']\n",
    "del valid['Unnamed: 0']\n",
    "del test['Unnamed: 0']"
   ]
  },
  {
   "cell_type": "code",
   "execution_count": 14,
   "metadata": {},
   "outputs": [],
   "source": [
    "aug['y'] = aug['y'].map(imapping)"
   ]
  },
  {
   "cell_type": "code",
   "execution_count": 15,
   "metadata": {},
   "outputs": [],
   "source": [
    "train = train.append(aug.sample(frac=1), ignore_index=True)"
   ]
  },
  {
   "cell_type": "code",
   "execution_count": 16,
   "metadata": {},
   "outputs": [],
   "source": [
    "X_train = np.array(train.iloc[:, 1:2305])\n",
    "y_train = np.array(train.loc[:, ['y']])\n",
    "\n",
    "X_val = np.array(valid.iloc[:, 1:2305])\n",
    "y_val = np.array(valid.loc[:, ['y']])\n",
    "\n",
    "X_test = np.array(test.iloc[:, 1:2305])\n",
    "y_test = np.array(test.loc[:, ['y']])"
   ]
  },
  {
   "cell_type": "code",
   "execution_count": 17,
   "metadata": {},
   "outputs": [],
   "source": [
    "y_train = keras.utils.to_categorical(y_train, 7)\n",
    "y_val = keras.utils.to_categorical(y_val, 7)\n",
    "y_test = keras.utils.to_categorical(y_test, 7)\n",
    "\n",
    "X_train_r = X_train.reshape((len(X_train), 48, 48))\n",
    "X_val_r   = X_val.reshape((len(X_val), 48, 48))\n",
    "X_test_r   = X_test.reshape((len(X_test), 48, 48))"
   ]
  },
  {
   "cell_type": "code",
   "execution_count": 18,
   "metadata": {},
   "outputs": [],
   "source": [
    "del X_train\n",
    "del X_val\n",
    "del X_test\n",
    "\n",
    "del train\n",
    "del valid\n",
    "del test\n",
    "\n",
    "del df\n",
    "\n",
    "del aug"
   ]
  },
  {
   "cell_type": "code",
   "execution_count": 19,
   "metadata": {},
   "outputs": [],
   "source": [
    "X_train_r = X_train_r / 255\n",
    "X_val_r = X_val_r / 255\n",
    "X_test_r = X_test_r / 255\n",
    "\n",
    "# X_train_rgb = np.stack((X_train_r,) * 3, axis = -1)\n",
    "# X_val_rgb = np.stack((X_val_r, ) * 3, axis = -1)\n",
    "# X_test_rgb = np.stack((X_test_r, ) * 3, axis = -1)"
   ]
  },
  {
   "cell_type": "code",
   "execution_count": 20,
   "metadata": {},
   "outputs": [],
   "source": [
    "X_train_bw = X_train_r.reshape((len(X_train_r), 48, 48, 1))\n",
    "X_val_bw = X_val_r.reshape((len(X_val_r), 48, 48, 1))\n",
    "X_test_bw = X_test_r.reshape((len(X_test_r), 48, 48, 1))"
   ]
  },
  {
   "cell_type": "markdown",
   "metadata": {},
   "source": [
    "### Model"
   ]
  },
  {
   "cell_type": "code",
   "execution_count": 21,
   "metadata": {},
   "outputs": [],
   "source": [
    "from keras.models import Sequential\n",
    "from keras.layers import Dense, Dropout, Activation, Flatten, Conv2D, MaxPooling2D\n",
    "from keras.layers.normalization import BatchNormalization\n",
    "from keras import optimizers\n",
    "\n",
    "from keras.models import model_from_json\n",
    "\n",
    "from keras.metrics import categorical_accuracy\n",
    "\n",
    "np.random.seed(100)"
   ]
  },
  {
   "cell_type": "code",
   "execution_count": 22,
   "metadata": {},
   "outputs": [],
   "source": [
    "model = Sequential()\n",
    "\n",
    "model.add(Conv2D(64,(3,3), padding='same', input_shape=(48, 48,1)))\n",
    "model.add(BatchNormalization())\n",
    "model.add(Activation('relu'))\n",
    "model.add(MaxPooling2D(pool_size=(2, 2)))\n",
    "model.add(Dropout(0.25))\n",
    "\n",
    "model.add(Conv2D(128,(5,5), padding='same'))\n",
    "model.add(BatchNormalization())\n",
    "model.add(Activation('relu'))\n",
    "model.add(MaxPooling2D(pool_size=(2, 2)))\n",
    "model.add(Dropout(0.25))\n",
    "\n",
    "model.add(Conv2D(512,(3,3), padding='same'))\n",
    "model.add(BatchNormalization())\n",
    "model.add(Activation('relu'))\n",
    "model.add(MaxPooling2D(pool_size=(2, 2)))\n",
    "model.add(Dropout(0.25))\n",
    "\n",
    "model.add(Conv2D(512,(3,3), padding='same'))\n",
    "model.add(BatchNormalization())\n",
    "model.add(Activation('relu'))\n",
    "model.add(MaxPooling2D(pool_size=(2, 2)))\n",
    "model.add(Dropout(0.25))\n",
    "\n",
    "model.add(Flatten())\n",
    "\n",
    "model.add(Dense(256))\n",
    "model.add(BatchNormalization())\n",
    "model.add(Activation('relu'))\n",
    "model.add(Dropout(0.25))\n",
    "\n",
    "model.add(Dense(512))\n",
    "model.add(BatchNormalization())\n",
    "model.add(Activation('relu'))\n",
    "model.add(Dropout(0.25))\n",
    "\n",
    "model.add(Dense(7, activation='softmax'))\n",
    "\n",
    "model.compile(optimizer='adam', loss='categorical_crossentropy', metrics=[categorical_accuracy])"
   ]
  },
  {
   "cell_type": "code",
   "execution_count": 23,
   "metadata": {},
   "outputs": [],
   "source": [
    "model.load_weights('baseline.h5')"
   ]
  },
  {
   "cell_type": "code",
   "execution_count": 25,
   "metadata": {},
   "outputs": [
    {
     "name": "stdout",
     "output_type": "stream",
     "text": [
      "Train on 39824 samples, validate on 3589 samples\n",
      "Epoch 1/10\n",
      "39824/39824 [==============================] - 59s 1ms/step - loss: 0.4985 - categorical_accuracy: 0.8626 - val_loss: 1.3138 - val_categorical_accuracy: 0.6456\n",
      "Epoch 2/10\n",
      "39824/39824 [==============================] - 44s 1ms/step - loss: 0.3448 - categorical_accuracy: 0.8890 - val_loss: 1.4790 - val_categorical_accuracy: 0.6339\n",
      "Epoch 3/10\n",
      "39824/39824 [==============================] - 44s 1ms/step - loss: 0.2861 - categorical_accuracy: 0.9060 - val_loss: 1.5772 - val_categorical_accuracy: 0.6188\n",
      "Epoch 4/10\n",
      "39824/39824 [==============================] - 44s 1ms/step - loss: 0.2462 - categorical_accuracy: 0.9147 - val_loss: 1.5938 - val_categorical_accuracy: 0.6383\n",
      "Epoch 5/10\n",
      "39824/39824 [==============================] - 44s 1ms/step - loss: 0.2199 - categorical_accuracy: 0.9235 - val_loss: 1.6555 - val_categorical_accuracy: 0.6305\n",
      "Epoch 6/10\n",
      "39824/39824 [==============================] - 44s 1ms/step - loss: 0.1971 - categorical_accuracy: 0.9321 - val_loss: 1.6579 - val_categorical_accuracy: 0.6369\n",
      "Epoch 7/10\n",
      "39824/39824 [==============================] - 44s 1ms/step - loss: 0.1810 - categorical_accuracy: 0.9368 - val_loss: 1.7748 - val_categorical_accuracy: 0.6272\n",
      "Epoch 8/10\n",
      "39824/39824 [==============================] - 43s 1ms/step - loss: 0.1637 - categorical_accuracy: 0.9428 - val_loss: 1.7581 - val_categorical_accuracy: 0.6470\n",
      "Epoch 9/10\n",
      "39824/39824 [==============================] - 43s 1ms/step - loss: 0.1585 - categorical_accuracy: 0.9440 - val_loss: 1.8487 - val_categorical_accuracy: 0.6342\n",
      "Epoch 10/10\n",
      "39824/39824 [==============================] - 43s 1ms/step - loss: 0.1477 - categorical_accuracy: 0.9484 - val_loss: 1.7864 - val_categorical_accuracy: 0.6389\n"
     ]
    }
   ],
   "source": [
    "history = model.fit(X_train_bw, y_train, batch_size=128, epochs=10, validation_data=(X_val_bw, y_val))"
   ]
  },
  {
   "cell_type": "code",
   "execution_count": 26,
   "metadata": {},
   "outputs": [
    {
     "name": "stdout",
     "output_type": "stream",
     "text": [
      "3589/3589 [==============================] - 2s 488us/step\n"
     ]
    },
    {
     "data": {
      "text/plain": [
       "[1.674819767076546, 0.6492059069544733]"
      ]
     },
     "execution_count": 26,
     "metadata": {},
     "output_type": "execute_result"
    }
   ],
   "source": [
    "model.evaluate(X_test_bw, y_test)"
   ]
  },
  {
   "cell_type": "code",
   "execution_count": 27,
   "metadata": {},
   "outputs": [],
   "source": [
    "from sklearn.metrics import confusion_matrix"
   ]
  },
  {
   "cell_type": "code",
   "execution_count": 28,
   "metadata": {},
   "outputs": [],
   "source": [
    "y = pd.DataFrame(np.argmax(y_test, axis = 1), columns=['true'])"
   ]
  },
  {
   "cell_type": "code",
   "execution_count": 31,
   "metadata": {},
   "outputs": [],
   "source": [
    "y['pred'] = model.predict_classes(X_test_bw)\n",
    "y['true'] = y['true'].map(mapping)\n",
    "y['pred'] = y['pred'].map(mapping)"
   ]
  },
  {
   "cell_type": "code",
   "execution_count": 32,
   "metadata": {},
   "outputs": [],
   "source": [
    "import itertools\n",
    "\n",
    "def plot_confusion_matrix(cm, classes,\n",
    "                          normalize=False,\n",
    "                          title='Confusion matrix',\n",
    "                          cmap=plt.cm.Blues):\n",
    "    \"\"\"\n",
    "    This function prints and plots the confusion matrix.\n",
    "    Normalization can be applied by setting `normalize=True`.\n",
    "    \"\"\"\n",
    "    if normalize:\n",
    "        cm = cm.astype('float') / cm.sum(axis=1)[:, np.newaxis]\n",
    "\n",
    "    plt.imshow(cm, interpolation='nearest', cmap=cmap)\n",
    "    plt.title(title, fontdict = {'fontsize': 20})\n",
    "    plt.colorbar(fraction=0.046, pad=0.04)\n",
    "    tick_marks = np.arange(len(classes))\n",
    "    plt.xticks(tick_marks, classes, rotation=45)\n",
    "    plt.yticks(tick_marks, classes)\n",
    "\n",
    "    fmt = '.2f' if normalize else 'd'\n",
    "    thresh = cm.max() / 2.\n",
    "    for i, j in itertools.product(range(cm.shape[0]), range(cm.shape[1])):\n",
    "        plt.text(j, i, format(cm[i, j], fmt),\n",
    "                 horizontalalignment=\"center\",\n",
    "                 color=\"white\" if cm[i, j] > thresh else \"black\")\n",
    "\n",
    "    plt.ylabel('True label')\n",
    "    plt.xlabel('Predicted label')\n",
    "    plt.tight_layout()"
   ]
  },
  {
   "cell_type": "code",
   "execution_count": 33,
   "metadata": {},
   "outputs": [
    {
     "name": "stderr",
     "output_type": "stream",
     "text": [
      "/usr/local/envs/py3env/lib/python3.5/site-packages/matplotlib/font_manager.py:1320: UserWarning: findfont: Font family ['sans-serif'] not found. Falling back to DejaVu Sans\n",
      "  (prop.get_family(), self.defaultFamily[fontext]))\n"
     ]
    },
    {
     "data": {
      "image/png": "[encoded data removed]",
      "text/plain": [
       "<matplotlib.figure.Figure at 0x7f4a50e88780>"
      ]
     },
     "metadata": {},
     "output_type": "display_data"
    }
   ],
   "source": [
    "cnf_matrix = confusion_matrix(y['true'], y['pred'],\n",
    "                              labels=['Angry', 'Disgust', 'Fear', 'Happy', 'Sad', 'Surprise', 'Neutral'])\n",
    "\n",
    "np.set_printoptions(precision=2)\n",
    "\n",
    "\n",
    "plt.figure(figsize=(9, 9))\n",
    "plot_confusion_matrix(cnf_matrix, \n",
    "                      classes=['Angry', 'Disgust', 'Fear', 'Happy', 'Sad', 'Surprise', 'Neutral'],\n",
    "                      title='Confusion matrix, without normalization', cmap = 'Purples')"
   ]
  },
  {
   "cell_type": "code",
   "execution_count": 35,
   "metadata": {},
   "outputs": [
    {
     "name": "stderr",
     "output_type": "stream",
     "text": [
      "/usr/local/envs/py3env/lib/python3.5/site-packages/matplotlib/font_manager.py:1320: UserWarning: findfont: Font family ['sans-serif'] not found. Falling back to DejaVu Sans\n",
      "  (prop.get_family(), self.defaultFamily[fontext]))\n"
     ]
    },
    {
     "data": {
      "image/png": "[encoded data removed]",
      "text/plain": [
       "<matplotlib.figure.Figure at 0x7f4a4ef0b400>"
      ]
     },
     "metadata": {},
     "output_type": "display_data"
    }
   ],
   "source": [
    "plt.figure(figsize=(9, 9))\n",
    "plot_confusion_matrix(cnf_matrix, \n",
    "                      classes=['Angry', 'Disgust', 'Fear', 'Happy', 'Sad', 'Surprise', 'Neutral'],\n",
    "                      normalize=True,\n",
    "                      title='', cmap = 'Purples')"
   ]
  },
  {
   "cell_type": "code",
   "execution_count": null,
   "metadata": {},
   "outputs": [],
   "source": []
  }
 ],
 "metadata": {
  "kernelspec": {
   "display_name": "Python 3",
   "language": "python",
   "name": "python3"
  },
  "language_info": {
   "codemirror_mode": {
    "name": "ipython",
    "version": 3
   },
   "file_extension": ".py",
   "mimetype": "text/x-python",
   "name": "python",
   "nbconvert_exporter": "python",
   "pygments_lexer": "ipython3",
   "version": "3.5.6"
  }
 },
 "nbformat": 4,
 "nbformat_minor": 2
}
